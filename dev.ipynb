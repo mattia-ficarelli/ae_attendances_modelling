{
 "cells": [
  {
   "cell_type": "code",
   "execution_count": 1,
   "metadata": {},
   "outputs": [],
   "source": [
    "from os import listdir\n",
    "from os.path import isfile, join\n",
    "import plotly.express as px\n",
    "import regex as re\n",
    "import pandas as pd\n",
    "from pandas import DataFrame\n",
    "from pandas import to_datetime\n",
    "import matplotlib \n",
    "from matplotlib import pyplot\n",
    "import matplotlib.pyplot as plt\n",
    "from matplotlib.pyplot import figure\n",
    "from fbprophet import Prophet\n",
    "from fbprophet.plot import add_changepoints_to_plot, plot_cross_validation_metric\n",
    "from fbprophet.diagnostics import cross_validation, performance_metrics\n",
    "\n",
    "from sklearn.metrics import mean_absolute_error\n",
    "from sklearn.metrics import mean_absolute_percentage_error"
   ]
  },
  {
   "cell_type": "code",
   "execution_count": 2,
   "metadata": {},
   "outputs": [],
   "source": [
    "path = '/Users/mattiaficarelli/Desktop/AE_admissions_data/'\n",
    "file_header_list = ['Period',\n",
    "'Org Code', \n",
    "'Parent Org', \n",
    "'Org name', \n",
    "'A&E attendances Type 1', \n",
    "'A&E attendances Type 2', \n",
    "'A&E attendances Other A&E Department',\n",
    "'A&E attendances Booked Appointments Type 1',\n",
    "'A&E attendances Booked Appointments Type 2',\n",
    "'A&E attendances Booked Appointments Other Department',\n",
    "'Attendances over 4hrs Type 1',\n",
    "'Attendances over 4hrs Type 2',\n",
    "'Attendances over 4hrs Other Department',\n",
    "'Attendances over 4hrs Booked Appointments Type 1',\n",
    "'Attendances over 4hrs Booked Appointments Type 2',\n",
    "'Attendances over 4hrs Booked Appointments Other Department',\n",
    "'Patients who have waited 4-12 hs from DTA to admission',\n",
    "'Patients who have waited 12+ hrs from DTA to admission',\n",
    "'Emergency admissions via A&E - Type 1',\n",
    "'Emergency admissions via A&E - Type 2',\n",
    "'Emergency admissions via A&E - Other A&E department',\n",
    "'Other emergency admissions']\n"
   ]
  },
  {
   "cell_type": "code",
   "execution_count": 3,
   "metadata": {},
   "outputs": [],
   "source": [
    "path_excel = '/Users/mattiaficarelli/Desktop/AE_admissions_data_prior_April_2018/'\n",
    "file_header_list_excel = ['Code', \n",
    "'Region', 'Name', \n",
    "'Type 1 Departments - Major A&E', \n",
    "'Type 2 Departments - Single Specialty', \n",
    "'Type 3 Departments - Other A&E/Minor Injury Unit']"
   ]
  },
  {
   "cell_type": "code",
   "execution_count": 4,
   "metadata": {},
   "outputs": [],
   "source": [
    "\n",
    "onlyexcelfiles = [f for f in listdir(path_excel) if isfile(join(path_excel, f))]\n",
    "df_append_excel = pd.DataFrame()\n",
    "regex_to_extract_date = re.compile(r'^([^.]*)-AE*')\n",
    "for file in onlyexcelfiles:\n",
    "    df = pd.read_excel(path_excel + file, names = file_header_list_excel, skiprows=17, usecols=\"B:G\")\n",
    "    date_from_filename = regex_to_extract_date.findall(file)\n",
    "    df['Date']= date_from_filename[0]\n",
    "    df_append_excel = df_append_excel.append(df, ignore_index=True)"
   ]
  },
  {
   "cell_type": "code",
   "execution_count": 5,
   "metadata": {},
   "outputs": [
    {
     "data": {
      "text/html": [
       "<div>\n",
       "<style scoped>\n",
       "    .dataframe tbody tr th:only-of-type {\n",
       "        vertical-align: middle;\n",
       "    }\n",
       "\n",
       "    .dataframe tbody tr th {\n",
       "        vertical-align: top;\n",
       "    }\n",
       "\n",
       "    .dataframe thead th {\n",
       "        text-align: right;\n",
       "    }\n",
       "</style>\n",
       "<table border=\"1\" class=\"dataframe\">\n",
       "  <thead>\n",
       "    <tr style=\"text-align: right;\">\n",
       "      <th></th>\n",
       "      <th>Date</th>\n",
       "      <th>ODS code</th>\n",
       "      <th>Organisation name</th>\n",
       "      <th>Type 1</th>\n",
       "      <th>Type 2</th>\n",
       "      <th>Other</th>\n",
       "      <th>Total A&amp;E attendences</th>\n",
       "    </tr>\n",
       "  </thead>\n",
       "  <tbody>\n",
       "    <tr>\n",
       "      <th>0</th>\n",
       "      <td>2015-06-01</td>\n",
       "      <td>RBT</td>\n",
       "      <td>Mid Cheshire Hospitals NHS Foundation Trust</td>\n",
       "      <td>4958.0</td>\n",
       "      <td>0.0</td>\n",
       "      <td>1974.0</td>\n",
       "      <td>6932.0</td>\n",
       "    </tr>\n",
       "    <tr>\n",
       "      <th>1</th>\n",
       "      <td>2015-06-01</td>\n",
       "      <td>RM3</td>\n",
       "      <td>Salford Royal NHS Foundation Trust</td>\n",
       "      <td>8039.0</td>\n",
       "      <td>0.0</td>\n",
       "      <td>0.0</td>\n",
       "      <td>8039.0</td>\n",
       "    </tr>\n",
       "    <tr>\n",
       "      <th>2</th>\n",
       "      <td>2015-06-01</td>\n",
       "      <td>RWJ</td>\n",
       "      <td>Stockport NHS Foundation Trust</td>\n",
       "      <td>7835.0</td>\n",
       "      <td>0.0</td>\n",
       "      <td>0.0</td>\n",
       "      <td>7835.0</td>\n",
       "    </tr>\n",
       "    <tr>\n",
       "      <th>3</th>\n",
       "      <td>2015-06-01</td>\n",
       "      <td>RMP</td>\n",
       "      <td>Tameside Hospital NHS Foundation Trust</td>\n",
       "      <td>7026.0</td>\n",
       "      <td>0.0</td>\n",
       "      <td>0.0</td>\n",
       "      <td>7026.0</td>\n",
       "    </tr>\n",
       "    <tr>\n",
       "      <th>4</th>\n",
       "      <td>2015-06-01</td>\n",
       "      <td>RBV</td>\n",
       "      <td>The Christie NHS Foundation Trust</td>\n",
       "      <td>0.0</td>\n",
       "      <td>0.0</td>\n",
       "      <td>0.0</td>\n",
       "      <td>0.0</td>\n",
       "    </tr>\n",
       "    <tr>\n",
       "      <th>...</th>\n",
       "      <td>...</td>\n",
       "      <td>...</td>\n",
       "      <td>...</td>\n",
       "      <td>...</td>\n",
       "      <td>...</td>\n",
       "      <td>...</td>\n",
       "      <td>...</td>\n",
       "    </tr>\n",
       "    <tr>\n",
       "      <th>8290</th>\n",
       "      <td>2018-03-01</td>\n",
       "      <td>RTR</td>\n",
       "      <td>South Tees Hospitals NHS Foundation Trust</td>\n",
       "      <td>10501.0</td>\n",
       "      <td>0.0</td>\n",
       "      <td>1761.0</td>\n",
       "      <td>12262.0</td>\n",
       "    </tr>\n",
       "    <tr>\n",
       "      <th>8291</th>\n",
       "      <td>2018-03-01</td>\n",
       "      <td>NQT5F</td>\n",
       "      <td>Skelmersdale Walk In Centre</td>\n",
       "      <td>0.0</td>\n",
       "      <td>0.0</td>\n",
       "      <td>1783.0</td>\n",
       "      <td>1783.0</td>\n",
       "    </tr>\n",
       "    <tr>\n",
       "      <th>8292</th>\n",
       "      <td>2018-03-01</td>\n",
       "      <td>RHQ</td>\n",
       "      <td>Sheffield Teaching Hospitals NHS Foundation Trust</td>\n",
       "      <td>9314.0</td>\n",
       "      <td>1097.0</td>\n",
       "      <td>7596.0</td>\n",
       "      <td>18007.0</td>\n",
       "    </tr>\n",
       "    <tr>\n",
       "      <th>8293</th>\n",
       "      <td>2018-03-01</td>\n",
       "      <td>AXT02</td>\n",
       "      <td>Shakespeare Walk-In Centre</td>\n",
       "      <td>0.0</td>\n",
       "      <td>0.0</td>\n",
       "      <td>3945.0</td>\n",
       "      <td>3945.0</td>\n",
       "    </tr>\n",
       "    <tr>\n",
       "      <th>8294</th>\n",
       "      <td>2018-03-01</td>\n",
       "      <td>RVR</td>\n",
       "      <td>Epsom And St Helier University Hospitals NHS T...</td>\n",
       "      <td>12960.0</td>\n",
       "      <td>491.0</td>\n",
       "      <td>1129.0</td>\n",
       "      <td>14580.0</td>\n",
       "    </tr>\n",
       "  </tbody>\n",
       "</table>\n",
       "<p>8295 rows × 7 columns</p>\n",
       "</div>"
      ],
      "text/plain": [
       "           Date ODS code                                  Organisation name  \\\n",
       "0    2015-06-01      RBT        Mid Cheshire Hospitals NHS Foundation Trust   \n",
       "1    2015-06-01      RM3                 Salford Royal NHS Foundation Trust   \n",
       "2    2015-06-01      RWJ                     Stockport NHS Foundation Trust   \n",
       "3    2015-06-01      RMP             Tameside Hospital NHS Foundation Trust   \n",
       "4    2015-06-01      RBV                  The Christie NHS Foundation Trust   \n",
       "...         ...      ...                                                ...   \n",
       "8290 2018-03-01      RTR          South Tees Hospitals NHS Foundation Trust   \n",
       "8291 2018-03-01    NQT5F                        Skelmersdale Walk In Centre   \n",
       "8292 2018-03-01      RHQ  Sheffield Teaching Hospitals NHS Foundation Trust   \n",
       "8293 2018-03-01    AXT02                         Shakespeare Walk-In Centre   \n",
       "8294 2018-03-01      RVR  Epsom And St Helier University Hospitals NHS T...   \n",
       "\n",
       "       Type 1  Type 2   Other  Total A&E attendences  \n",
       "0      4958.0     0.0  1974.0                 6932.0  \n",
       "1      8039.0     0.0     0.0                 8039.0  \n",
       "2      7835.0     0.0     0.0                 7835.0  \n",
       "3      7026.0     0.0     0.0                 7026.0  \n",
       "4         0.0     0.0     0.0                    0.0  \n",
       "...       ...     ...     ...                    ...  \n",
       "8290  10501.0     0.0  1761.0                12262.0  \n",
       "8291      0.0     0.0  1783.0                 1783.0  \n",
       "8292   9314.0  1097.0  7596.0                18007.0  \n",
       "8293      0.0     0.0  3945.0                 3945.0  \n",
       "8294  12960.0   491.0  1129.0                14580.0  \n",
       "\n",
       "[8295 rows x 7 columns]"
      ]
     },
     "execution_count": 5,
     "metadata": {},
     "output_type": "execute_result"
    }
   ],
   "source": [
    "df_append_excel_clean_1 = df_append_excel[df_append_excel['Code'].notna()].reset_index(drop = True)\n",
    "df_append_excel_clean_1['Date'] = pd.to_datetime(df_append_excel_clean_1['Date'])\n",
    "df_append_excel_clean_2 = df_append_excel_clean_1.rename(columns = {'Code': 'ODS code', 'Name': 'Organisation name', 'Type 1 Departments - Major A&E': 'Type 1', 'Type 2 Departments - Single Specialty': 'Type 2', 'Type 3 Departments - Other A&E/Minor Injury Unit': 'Other'})\n",
    "df_append_excel_clean_3 = df_append_excel_clean_2[[\"Date\", \"ODS code\", \"Organisation name\", \"Type 1\", \"Type 2\", \"Other\"]]\n",
    "df_append_excel_clean_3[\"Total A&E attendences\"] = df_append_excel_clean_3[\"Type 1\"] + df_append_excel_clean_3[\"Type 2\"] + df_append_excel_clean_3[\"Other\"]\n",
    "df_append_excel_clean_4 = df_append_excel_clean_3.sort_values(by=['Date']).reset_index(drop = True)\n",
    "df_append_excel_clean_4"
   ]
  },
  {
   "cell_type": "code",
   "execution_count": 6,
   "metadata": {},
   "outputs": [],
   "source": [
    "\n",
    "onlyfiles = [f for f in listdir(path) if isfile(join(path, f))]\n",
    "df_append = pd.DataFrame()\n",
    "for file in onlyfiles:\n",
    "    df = pd.read_csv(path + file, names = file_header_list, skiprows=1)\n",
    "    df_append = df_append.append(df, ignore_index=True)"
   ]
  },
  {
   "cell_type": "code",
   "execution_count": 7,
   "metadata": {},
   "outputs": [],
   "source": [
    "df_clean_1 = df_append[df_append[\"Period\"].str.contains(\"TOTAL\")==False].reset_index(drop = True)\n",
    "df_clean_1['Period'] = pd.to_datetime(df_clean_1['Period'].str.replace(\"MSitAE-\", \"\"))\n",
    "df_clean_2 = df_clean_1.sort_values(by=['Period']).reset_index(drop = True)\n",
    "df_clean_3 = df_clean_2[[\"Period\", \"Org Code\",\"Org name\", \"A&E attendances Type 1\",\"A&E attendances Type 2\", 'A&E attendances Other A&E Department']]\n",
    "df_clean_4 = df_clean_3.rename(columns = {'Period': 'Date', 'Org Code': 'ODS code', 'Org name': 'Organisation name', 'A&E attendances Type 1': 'Type 1', 'A&E attendances Type 2': 'Type 2', 'A&E attendances Other A&E Department': 'Other'})\n",
    "df_clean_4[\"Total A&E attendences\"] = df_clean_4[\"Type 1\"] + df_clean_4[\"Type 2\"] + df_clean_4[\"Other\"]"
   ]
  },
  {
   "cell_type": "code",
   "execution_count": 8,
   "metadata": {},
   "outputs": [],
   "source": [
    "df_final = df_append_excel_clean_4.append(df_clean_4)\n",
    "df_final_1 = df_final.drop([\"ODS code\", \"Organisation name\"], axis=1)\n",
    "df_final.to_csv('final_cleaned_data.csv')"
   ]
  },
  {
   "cell_type": "code",
   "execution_count": 9,
   "metadata": {},
   "outputs": [
    {
     "data": {
      "text/html": [
       "<div>\n",
       "<style scoped>\n",
       "    .dataframe tbody tr th:only-of-type {\n",
       "        vertical-align: middle;\n",
       "    }\n",
       "\n",
       "    .dataframe tbody tr th {\n",
       "        vertical-align: top;\n",
       "    }\n",
       "\n",
       "    .dataframe thead th {\n",
       "        text-align: right;\n",
       "    }\n",
       "</style>\n",
       "<table border=\"1\" class=\"dataframe\">\n",
       "  <thead>\n",
       "    <tr style=\"text-align: right;\">\n",
       "      <th></th>\n",
       "      <th>Date</th>\n",
       "      <th>Type 1</th>\n",
       "      <th>Type 2</th>\n",
       "      <th>Other</th>\n",
       "      <th>Total A&amp;E attendences</th>\n",
       "    </tr>\n",
       "  </thead>\n",
       "  <tbody>\n",
       "    <tr>\n",
       "      <th>0</th>\n",
       "      <td>2015-06-01</td>\n",
       "      <td>1249213.0</td>\n",
       "      <td>53398.0</td>\n",
       "      <td>608598.0</td>\n",
       "      <td>1911209.0</td>\n",
       "    </tr>\n",
       "    <tr>\n",
       "      <th>1</th>\n",
       "      <td>2015-07-01</td>\n",
       "      <td>1271523.0</td>\n",
       "      <td>53417.0</td>\n",
       "      <td>627955.0</td>\n",
       "      <td>1952895.0</td>\n",
       "    </tr>\n",
       "    <tr>\n",
       "      <th>2</th>\n",
       "      <td>2015-08-01</td>\n",
       "      <td>1215826.0</td>\n",
       "      <td>49458.0</td>\n",
       "      <td>599855.0</td>\n",
       "      <td>1865139.0</td>\n",
       "    </tr>\n",
       "    <tr>\n",
       "      <th>3</th>\n",
       "      <td>2015-09-01</td>\n",
       "      <td>1221594.0</td>\n",
       "      <td>50868.0</td>\n",
       "      <td>587517.0</td>\n",
       "      <td>1859979.0</td>\n",
       "    </tr>\n",
       "    <tr>\n",
       "      <th>4</th>\n",
       "      <td>2015-10-01</td>\n",
       "      <td>1261395.0</td>\n",
       "      <td>50275.0</td>\n",
       "      <td>611438.0</td>\n",
       "      <td>1923108.0</td>\n",
       "    </tr>\n",
       "    <tr>\n",
       "      <th>...</th>\n",
       "      <td>...</td>\n",
       "      <td>...</td>\n",
       "      <td>...</td>\n",
       "      <td>...</td>\n",
       "      <td>...</td>\n",
       "    </tr>\n",
       "    <tr>\n",
       "      <th>74</th>\n",
       "      <td>2021-08-01</td>\n",
       "      <td>1307515.0</td>\n",
       "      <td>39577.0</td>\n",
       "      <td>619694.0</td>\n",
       "      <td>1966786.0</td>\n",
       "    </tr>\n",
       "    <tr>\n",
       "      <th>75</th>\n",
       "      <td>2021-09-01</td>\n",
       "      <td>1359673.0</td>\n",
       "      <td>40228.0</td>\n",
       "      <td>659084.0</td>\n",
       "      <td>2058985.0</td>\n",
       "    </tr>\n",
       "    <tr>\n",
       "      <th>76</th>\n",
       "      <td>2021-10-01</td>\n",
       "      <td>1384402.0</td>\n",
       "      <td>39474.0</td>\n",
       "      <td>665990.0</td>\n",
       "      <td>2089866.0</td>\n",
       "    </tr>\n",
       "    <tr>\n",
       "      <th>77</th>\n",
       "      <td>2021-11-01</td>\n",
       "      <td>1300577.0</td>\n",
       "      <td>38821.0</td>\n",
       "      <td>624035.0</td>\n",
       "      <td>1963433.0</td>\n",
       "    </tr>\n",
       "    <tr>\n",
       "      <th>78</th>\n",
       "      <td>2021-12-01</td>\n",
       "      <td>1216723.0</td>\n",
       "      <td>34767.0</td>\n",
       "      <td>553238.0</td>\n",
       "      <td>1804728.0</td>\n",
       "    </tr>\n",
       "  </tbody>\n",
       "</table>\n",
       "<p>79 rows × 5 columns</p>\n",
       "</div>"
      ],
      "text/plain": [
       "         Date     Type 1   Type 2     Other  Total A&E attendences\n",
       "0  2015-06-01  1249213.0  53398.0  608598.0              1911209.0\n",
       "1  2015-07-01  1271523.0  53417.0  627955.0              1952895.0\n",
       "2  2015-08-01  1215826.0  49458.0  599855.0              1865139.0\n",
       "3  2015-09-01  1221594.0  50868.0  587517.0              1859979.0\n",
       "4  2015-10-01  1261395.0  50275.0  611438.0              1923108.0\n",
       "..        ...        ...      ...       ...                    ...\n",
       "74 2021-08-01  1307515.0  39577.0  619694.0              1966786.0\n",
       "75 2021-09-01  1359673.0  40228.0  659084.0              2058985.0\n",
       "76 2021-10-01  1384402.0  39474.0  665990.0              2089866.0\n",
       "77 2021-11-01  1300577.0  38821.0  624035.0              1963433.0\n",
       "78 2021-12-01  1216723.0  34767.0  553238.0              1804728.0\n",
       "\n",
       "[79 rows x 5 columns]"
      ]
     },
     "execution_count": 9,
     "metadata": {},
     "output_type": "execute_result"
    }
   ],
   "source": [
    "df_final_group = df_final_1.groupby(\"Date\").sum().reset_index()\n",
    "df_final_group"
   ]
  },
  {
   "cell_type": "code",
   "execution_count": 10,
   "metadata": {},
   "outputs": [],
   "source": [
    "import os"
   ]
  },
  {
   "cell_type": "code",
   "execution_count": 16,
   "metadata": {},
   "outputs": [
    {
     "data": {
      "application/vnd.plotly.v1+json": {
       "config": {
        "plotlyServerURL": "https://plot.ly"
       },
       "data": [
        {
         "alignmentgroup": "True",
         "hovertemplate": "A&E attendances=Type 1<br>Date=%{x}<br>Number of A&E attendances=%{y}<extra></extra>",
         "legendgroup": "Type 1",
         "marker": {
          "color": "#003087",
          "pattern": {
           "shape": ""
          }
         },
         "name": "Type 1",
         "offsetgroup": "Type 1",
         "orientation": "v",
         "showlegend": true,
         "textposition": "auto",
         "type": "bar",
         "x": [
          "2015-06-01T00:00:00",
          "2015-07-01T00:00:00",
          "2015-08-01T00:00:00",
          "2015-09-01T00:00:00",
          "2015-10-01T00:00:00",
          "2015-11-01T00:00:00",
          "2015-12-01T00:00:00",
          "2016-01-01T00:00:00",
          "2016-02-01T00:00:00",
          "2016-03-01T00:00:00",
          "2016-04-01T00:00:00",
          "2016-05-01T00:00:00",
          "2016-06-01T00:00:00",
          "2016-07-01T00:00:00",
          "2016-08-01T00:00:00",
          "2016-09-01T00:00:00",
          "2016-10-01T00:00:00",
          "2016-11-01T00:00:00",
          "2016-12-01T00:00:00",
          "2017-01-01T00:00:00",
          "2017-02-01T00:00:00",
          "2017-03-01T00:00:00",
          "2017-04-01T00:00:00",
          "2017-05-01T00:00:00",
          "2017-06-01T00:00:00",
          "2017-07-01T00:00:00",
          "2017-08-01T00:00:00",
          "2017-09-01T00:00:00",
          "2017-10-01T00:00:00",
          "2017-11-01T00:00:00",
          "2017-12-01T00:00:00",
          "2018-01-01T00:00:00",
          "2018-02-01T00:00:00",
          "2018-03-01T00:00:00",
          "2018-04-01T00:00:00",
          "2018-05-01T00:00:00",
          "2018-06-01T00:00:00",
          "2018-07-01T00:00:00",
          "2018-08-01T00:00:00",
          "2018-09-01T00:00:00",
          "2018-10-01T00:00:00",
          "2018-11-01T00:00:00",
          "2018-12-01T00:00:00",
          "2019-01-01T00:00:00",
          "2019-02-01T00:00:00",
          "2019-03-01T00:00:00",
          "2019-04-01T00:00:00",
          "2019-05-01T00:00:00",
          "2019-06-01T00:00:00",
          "2019-07-01T00:00:00",
          "2019-08-01T00:00:00",
          "2019-09-01T00:00:00",
          "2019-10-01T00:00:00",
          "2019-11-01T00:00:00",
          "2019-12-01T00:00:00",
          "2020-01-01T00:00:00",
          "2020-02-01T00:00:00",
          "2020-03-01T00:00:00",
          "2020-04-01T00:00:00",
          "2020-05-01T00:00:00",
          "2020-06-01T00:00:00",
          "2020-07-01T00:00:00",
          "2020-08-01T00:00:00",
          "2020-09-01T00:00:00",
          "2020-10-01T00:00:00",
          "2020-11-01T00:00:00",
          "2020-12-01T00:00:00",
          "2021-01-01T00:00:00",
          "2021-02-01T00:00:00",
          "2021-03-01T00:00:00",
          "2021-04-01T00:00:00",
          "2021-05-01T00:00:00",
          "2021-06-01T00:00:00",
          "2021-07-01T00:00:00",
          "2021-08-01T00:00:00",
          "2021-09-01T00:00:00",
          "2021-10-01T00:00:00",
          "2021-11-01T00:00:00",
          "2021-12-01T00:00:00"
         ],
         "xaxis": "x",
         "y": [
          1249213,
          1271523,
          1215826,
          1221594,
          1261395,
          1236294,
          1232965,
          1250005,
          1218372,
          1350373,
          1214057,
          1353206,
          1282499,
          1353477,
          1254439,
          1277578,
          1317571,
          1258205,
          1277133,
          1237177,
          1127909,
          1309507,
          1253743,
          1347297,
          1296877,
          1348648,
          1256655,
          1263957,
          1325211,
          1281913,
          1289587,
          1257026,
          1151757,
          1299796,
          1246348,
          1354711,
          1306739,
          1365859,
          1252767,
          1269088,
          1320032,
          1305353,
          1307359,
          1344354,
          1234328,
          1373061,
          1330825,
          1369332,
          1334137,
          1415918,
          1324070,
          1342510,
          1376347,
          1366383,
          1373654,
          1327234,
          1237255,
          1013021,
          689720,
          924218,
          1016132,
          1120421,
          1177618,
          1160746,
          1107461,
          1030384,
          1023961,
          919250,
          880439,
          1128679,
          1223400,
          1353768,
          1398360,
          1396704,
          1307515,
          1359673,
          1384402,
          1300577,
          1216723
         ],
         "yaxis": "y"
        },
        {
         "alignmentgroup": "True",
         "hovertemplate": "A&E attendances=Type 2<br>Date=%{x}<br>Number of A&E attendances=%{y}<extra></extra>",
         "legendgroup": "Type 2",
         "marker": {
          "color": "#0072CE",
          "pattern": {
           "shape": ""
          }
         },
         "name": "Type 2",
         "offsetgroup": "Type 2",
         "orientation": "v",
         "showlegend": true,
         "textposition": "auto",
         "type": "bar",
         "x": [
          "2015-06-01T00:00:00",
          "2015-07-01T00:00:00",
          "2015-08-01T00:00:00",
          "2015-09-01T00:00:00",
          "2015-10-01T00:00:00",
          "2015-11-01T00:00:00",
          "2015-12-01T00:00:00",
          "2016-01-01T00:00:00",
          "2016-02-01T00:00:00",
          "2016-03-01T00:00:00",
          "2016-04-01T00:00:00",
          "2016-05-01T00:00:00",
          "2016-06-01T00:00:00",
          "2016-07-01T00:00:00",
          "2016-08-01T00:00:00",
          "2016-09-01T00:00:00",
          "2016-10-01T00:00:00",
          "2016-11-01T00:00:00",
          "2016-12-01T00:00:00",
          "2017-01-01T00:00:00",
          "2017-02-01T00:00:00",
          "2017-03-01T00:00:00",
          "2017-04-01T00:00:00",
          "2017-05-01T00:00:00",
          "2017-06-01T00:00:00",
          "2017-07-01T00:00:00",
          "2017-08-01T00:00:00",
          "2017-09-01T00:00:00",
          "2017-10-01T00:00:00",
          "2017-11-01T00:00:00",
          "2017-12-01T00:00:00",
          "2018-01-01T00:00:00",
          "2018-02-01T00:00:00",
          "2018-03-01T00:00:00",
          "2018-04-01T00:00:00",
          "2018-05-01T00:00:00",
          "2018-06-01T00:00:00",
          "2018-07-01T00:00:00",
          "2018-08-01T00:00:00",
          "2018-09-01T00:00:00",
          "2018-10-01T00:00:00",
          "2018-11-01T00:00:00",
          "2018-12-01T00:00:00",
          "2019-01-01T00:00:00",
          "2019-02-01T00:00:00",
          "2019-03-01T00:00:00",
          "2019-04-01T00:00:00",
          "2019-05-01T00:00:00",
          "2019-06-01T00:00:00",
          "2019-07-01T00:00:00",
          "2019-08-01T00:00:00",
          "2019-09-01T00:00:00",
          "2019-10-01T00:00:00",
          "2019-11-01T00:00:00",
          "2019-12-01T00:00:00",
          "2020-01-01T00:00:00",
          "2020-02-01T00:00:00",
          "2020-03-01T00:00:00",
          "2020-04-01T00:00:00",
          "2020-05-01T00:00:00",
          "2020-06-01T00:00:00",
          "2020-07-01T00:00:00",
          "2020-08-01T00:00:00",
          "2020-09-01T00:00:00",
          "2020-10-01T00:00:00",
          "2020-11-01T00:00:00",
          "2020-12-01T00:00:00",
          "2021-01-01T00:00:00",
          "2021-02-01T00:00:00",
          "2021-03-01T00:00:00",
          "2021-04-01T00:00:00",
          "2021-05-01T00:00:00",
          "2021-06-01T00:00:00",
          "2021-07-01T00:00:00",
          "2021-08-01T00:00:00",
          "2021-09-01T00:00:00",
          "2021-10-01T00:00:00",
          "2021-11-01T00:00:00",
          "2021-12-01T00:00:00"
         ],
         "xaxis": "x",
         "y": [
          53398,
          53417,
          49458,
          50868,
          50275,
          48306,
          46148,
          47208.42857143,
          48387,
          49906,
          50359,
          52180,
          52180,
          52961,
          52404,
          52521,
          51020,
          49979,
          45569,
          48039,
          45733,
          53355,
          47550,
          51037,
          50612,
          50369,
          47912,
          47250,
          50198,
          48223,
          42158,
          49987,
          41902,
          46655,
          47256,
          49219,
          49635,
          49846,
          49117,
          47622,
          51282,
          48465,
          43072,
          47616,
          44183,
          50490,
          49281,
          50642,
          49233,
          52418,
          48786,
          48217,
          50391,
          47179,
          43458,
          49597,
          45124,
          32747,
          19726,
          26479,
          30894,
          32759,
          32231,
          33295,
          33012,
          31872,
          29806,
          25719,
          27859,
          35528,
          35234,
          36919,
          39046,
          39127,
          39577,
          40228,
          39474,
          38821,
          34767
         ],
         "yaxis": "y"
        },
        {
         "alignmentgroup": "True",
         "hovertemplate": "A&E attendances=Other<br>Date=%{x}<br>Number of A&E attendances=%{y}<extra></extra>",
         "legendgroup": "Other",
         "marker": {
          "color": "#41B6E6",
          "pattern": {
           "shape": ""
          }
         },
         "name": "Other",
         "offsetgroup": "Other",
         "orientation": "v",
         "showlegend": true,
         "textposition": "auto",
         "type": "bar",
         "x": [
          "2015-06-01T00:00:00",
          "2015-07-01T00:00:00",
          "2015-08-01T00:00:00",
          "2015-09-01T00:00:00",
          "2015-10-01T00:00:00",
          "2015-11-01T00:00:00",
          "2015-12-01T00:00:00",
          "2016-01-01T00:00:00",
          "2016-02-01T00:00:00",
          "2016-03-01T00:00:00",
          "2016-04-01T00:00:00",
          "2016-05-01T00:00:00",
          "2016-06-01T00:00:00",
          "2016-07-01T00:00:00",
          "2016-08-01T00:00:00",
          "2016-09-01T00:00:00",
          "2016-10-01T00:00:00",
          "2016-11-01T00:00:00",
          "2016-12-01T00:00:00",
          "2017-01-01T00:00:00",
          "2017-02-01T00:00:00",
          "2017-03-01T00:00:00",
          "2017-04-01T00:00:00",
          "2017-05-01T00:00:00",
          "2017-06-01T00:00:00",
          "2017-07-01T00:00:00",
          "2017-08-01T00:00:00",
          "2017-09-01T00:00:00",
          "2017-10-01T00:00:00",
          "2017-11-01T00:00:00",
          "2017-12-01T00:00:00",
          "2018-01-01T00:00:00",
          "2018-02-01T00:00:00",
          "2018-03-01T00:00:00",
          "2018-04-01T00:00:00",
          "2018-05-01T00:00:00",
          "2018-06-01T00:00:00",
          "2018-07-01T00:00:00",
          "2018-08-01T00:00:00",
          "2018-09-01T00:00:00",
          "2018-10-01T00:00:00",
          "2018-11-01T00:00:00",
          "2018-12-01T00:00:00",
          "2019-01-01T00:00:00",
          "2019-02-01T00:00:00",
          "2019-03-01T00:00:00",
          "2019-04-01T00:00:00",
          "2019-05-01T00:00:00",
          "2019-06-01T00:00:00",
          "2019-07-01T00:00:00",
          "2019-08-01T00:00:00",
          "2019-09-01T00:00:00",
          "2019-10-01T00:00:00",
          "2019-11-01T00:00:00",
          "2019-12-01T00:00:00",
          "2020-01-01T00:00:00",
          "2020-02-01T00:00:00",
          "2020-03-01T00:00:00",
          "2020-04-01T00:00:00",
          "2020-05-01T00:00:00",
          "2020-06-01T00:00:00",
          "2020-07-01T00:00:00",
          "2020-08-01T00:00:00",
          "2020-09-01T00:00:00",
          "2020-10-01T00:00:00",
          "2020-11-01T00:00:00",
          "2020-12-01T00:00:00",
          "2021-01-01T00:00:00",
          "2021-02-01T00:00:00",
          "2021-03-01T00:00:00",
          "2021-04-01T00:00:00",
          "2021-05-01T00:00:00",
          "2021-06-01T00:00:00",
          "2021-07-01T00:00:00",
          "2021-08-01T00:00:00",
          "2021-09-01T00:00:00",
          "2021-10-01T00:00:00",
          "2021-11-01T00:00:00",
          "2021-12-01T00:00:00"
         ],
         "xaxis": "x",
         "y": [
          608598,
          627955,
          599855,
          587517,
          611438,
          589635,
          588539,
          609707,
          604017,
          687274,
          603365,
          664954,
          624123,
          672596,
          626058,
          622365,
          633225,
          599687,
          621865,
          610056,
          561977,
          652972,
          648469,
          668455,
          646567,
          674927,
          620096,
          614754,
          668728,
          646835,
          672209,
          693073,
          626353,
          703334,
          690765,
          760528,
          737568,
          764191,
          695970,
          688985,
          708178,
          684029,
          697087,
          721443,
          676436,
          744000,
          732059,
          752032,
          724617,
          796714,
          752579,
          732618,
          744147,
          729943,
          763425,
          737878,
          687312,
          486033,
          207129,
          311140,
          363576,
          435106,
          488679,
          476334,
          434407,
          394944,
          380987,
          318592,
          321823,
          458095,
          532888,
          596681,
          642973,
          651550,
          619694,
          659084,
          665990,
          624035,
          553238
         ],
         "yaxis": "y"
        }
       ],
       "layout": {
        "autosize": true,
        "barmode": "relative",
        "font": {
         "family": "Arial",
         "size": 16
        },
        "legend": {
         "title": {
          "text": "A&E attendances"
         },
         "tracegroupgap": 0
        },
        "margin": {
         "autoexpand": true,
         "b": 50,
         "l": 50,
         "pad": 4,
         "r": 50,
         "t": 50
        },
        "paper_bgcolor": "rgba(0, 0, 0, 0)",
        "plot_bgcolor": "rgba(0, 0, 0, 0)",
        "template": {
         "data": {
          "bar": [
           {
            "error_x": {
             "color": "#2a3f5f"
            },
            "error_y": {
             "color": "#2a3f5f"
            },
            "marker": {
             "line": {
              "color": "#E5ECF6",
              "width": 0.5
             },
             "pattern": {
              "fillmode": "overlay",
              "size": 10,
              "solidity": 0.2
             }
            },
            "type": "bar"
           }
          ],
          "barpolar": [
           {
            "marker": {
             "line": {
              "color": "#E5ECF6",
              "width": 0.5
             },
             "pattern": {
              "fillmode": "overlay",
              "size": 10,
              "solidity": 0.2
             }
            },
            "type": "barpolar"
           }
          ],
          "carpet": [
           {
            "aaxis": {
             "endlinecolor": "#2a3f5f",
             "gridcolor": "white",
             "linecolor": "white",
             "minorgridcolor": "white",
             "startlinecolor": "#2a3f5f"
            },
            "baxis": {
             "endlinecolor": "#2a3f5f",
             "gridcolor": "white",
             "linecolor": "white",
             "minorgridcolor": "white",
             "startlinecolor": "#2a3f5f"
            },
            "type": "carpet"
           }
          ],
          "choropleth": [
           {
            "colorbar": {
             "outlinewidth": 0,
             "ticks": ""
            },
            "type": "choropleth"
           }
          ],
          "contour": [
           {
            "colorbar": {
             "outlinewidth": 0,
             "ticks": ""
            },
            "colorscale": [
             [
              0,
              "#0d0887"
             ],
             [
              0.1111111111111111,
              "#46039f"
             ],
             [
              0.2222222222222222,
              "#7201a8"
             ],
             [
              0.3333333333333333,
              "#9c179e"
             ],
             [
              0.4444444444444444,
              "#bd3786"
             ],
             [
              0.5555555555555556,
              "#d8576b"
             ],
             [
              0.6666666666666666,
              "#ed7953"
             ],
             [
              0.7777777777777778,
              "#fb9f3a"
             ],
             [
              0.8888888888888888,
              "#fdca26"
             ],
             [
              1,
              "#f0f921"
             ]
            ],
            "type": "contour"
           }
          ],
          "contourcarpet": [
           {
            "colorbar": {
             "outlinewidth": 0,
             "ticks": ""
            },
            "type": "contourcarpet"
           }
          ],
          "heatmap": [
           {
            "colorbar": {
             "outlinewidth": 0,
             "ticks": ""
            },
            "colorscale": [
             [
              0,
              "#0d0887"
             ],
             [
              0.1111111111111111,
              "#46039f"
             ],
             [
              0.2222222222222222,
              "#7201a8"
             ],
             [
              0.3333333333333333,
              "#9c179e"
             ],
             [
              0.4444444444444444,
              "#bd3786"
             ],
             [
              0.5555555555555556,
              "#d8576b"
             ],
             [
              0.6666666666666666,
              "#ed7953"
             ],
             [
              0.7777777777777778,
              "#fb9f3a"
             ],
             [
              0.8888888888888888,
              "#fdca26"
             ],
             [
              1,
              "#f0f921"
             ]
            ],
            "type": "heatmap"
           }
          ],
          "heatmapgl": [
           {
            "colorbar": {
             "outlinewidth": 0,
             "ticks": ""
            },
            "colorscale": [
             [
              0,
              "#0d0887"
             ],
             [
              0.1111111111111111,
              "#46039f"
             ],
             [
              0.2222222222222222,
              "#7201a8"
             ],
             [
              0.3333333333333333,
              "#9c179e"
             ],
             [
              0.4444444444444444,
              "#bd3786"
             ],
             [
              0.5555555555555556,
              "#d8576b"
             ],
             [
              0.6666666666666666,
              "#ed7953"
             ],
             [
              0.7777777777777778,
              "#fb9f3a"
             ],
             [
              0.8888888888888888,
              "#fdca26"
             ],
             [
              1,
              "#f0f921"
             ]
            ],
            "type": "heatmapgl"
           }
          ],
          "histogram": [
           {
            "marker": {
             "pattern": {
              "fillmode": "overlay",
              "size": 10,
              "solidity": 0.2
             }
            },
            "type": "histogram"
           }
          ],
          "histogram2d": [
           {
            "colorbar": {
             "outlinewidth": 0,
             "ticks": ""
            },
            "colorscale": [
             [
              0,
              "#0d0887"
             ],
             [
              0.1111111111111111,
              "#46039f"
             ],
             [
              0.2222222222222222,
              "#7201a8"
             ],
             [
              0.3333333333333333,
              "#9c179e"
             ],
             [
              0.4444444444444444,
              "#bd3786"
             ],
             [
              0.5555555555555556,
              "#d8576b"
             ],
             [
              0.6666666666666666,
              "#ed7953"
             ],
             [
              0.7777777777777778,
              "#fb9f3a"
             ],
             [
              0.8888888888888888,
              "#fdca26"
             ],
             [
              1,
              "#f0f921"
             ]
            ],
            "type": "histogram2d"
           }
          ],
          "histogram2dcontour": [
           {
            "colorbar": {
             "outlinewidth": 0,
             "ticks": ""
            },
            "colorscale": [
             [
              0,
              "#0d0887"
             ],
             [
              0.1111111111111111,
              "#46039f"
             ],
             [
              0.2222222222222222,
              "#7201a8"
             ],
             [
              0.3333333333333333,
              "#9c179e"
             ],
             [
              0.4444444444444444,
              "#bd3786"
             ],
             [
              0.5555555555555556,
              "#d8576b"
             ],
             [
              0.6666666666666666,
              "#ed7953"
             ],
             [
              0.7777777777777778,
              "#fb9f3a"
             ],
             [
              0.8888888888888888,
              "#fdca26"
             ],
             [
              1,
              "#f0f921"
             ]
            ],
            "type": "histogram2dcontour"
           }
          ],
          "mesh3d": [
           {
            "colorbar": {
             "outlinewidth": 0,
             "ticks": ""
            },
            "type": "mesh3d"
           }
          ],
          "parcoords": [
           {
            "line": {
             "colorbar": {
              "outlinewidth": 0,
              "ticks": ""
             }
            },
            "type": "parcoords"
           }
          ],
          "pie": [
           {
            "automargin": true,
            "type": "pie"
           }
          ],
          "scatter": [
           {
            "marker": {
             "colorbar": {
              "outlinewidth": 0,
              "ticks": ""
             }
            },
            "type": "scatter"
           }
          ],
          "scatter3d": [
           {
            "line": {
             "colorbar": {
              "outlinewidth": 0,
              "ticks": ""
             }
            },
            "marker": {
             "colorbar": {
              "outlinewidth": 0,
              "ticks": ""
             }
            },
            "type": "scatter3d"
           }
          ],
          "scattercarpet": [
           {
            "marker": {
             "colorbar": {
              "outlinewidth": 0,
              "ticks": ""
             }
            },
            "type": "scattercarpet"
           }
          ],
          "scattergeo": [
           {
            "marker": {
             "colorbar": {
              "outlinewidth": 0,
              "ticks": ""
             }
            },
            "type": "scattergeo"
           }
          ],
          "scattergl": [
           {
            "marker": {
             "colorbar": {
              "outlinewidth": 0,
              "ticks": ""
             }
            },
            "type": "scattergl"
           }
          ],
          "scattermapbox": [
           {
            "marker": {
             "colorbar": {
              "outlinewidth": 0,
              "ticks": ""
             }
            },
            "type": "scattermapbox"
           }
          ],
          "scatterpolar": [
           {
            "marker": {
             "colorbar": {
              "outlinewidth": 0,
              "ticks": ""
             }
            },
            "type": "scatterpolar"
           }
          ],
          "scatterpolargl": [
           {
            "marker": {
             "colorbar": {
              "outlinewidth": 0,
              "ticks": ""
             }
            },
            "type": "scatterpolargl"
           }
          ],
          "scatterternary": [
           {
            "marker": {
             "colorbar": {
              "outlinewidth": 0,
              "ticks": ""
             }
            },
            "type": "scatterternary"
           }
          ],
          "surface": [
           {
            "colorbar": {
             "outlinewidth": 0,
             "ticks": ""
            },
            "colorscale": [
             [
              0,
              "#0d0887"
             ],
             [
              0.1111111111111111,
              "#46039f"
             ],
             [
              0.2222222222222222,
              "#7201a8"
             ],
             [
              0.3333333333333333,
              "#9c179e"
             ],
             [
              0.4444444444444444,
              "#bd3786"
             ],
             [
              0.5555555555555556,
              "#d8576b"
             ],
             [
              0.6666666666666666,
              "#ed7953"
             ],
             [
              0.7777777777777778,
              "#fb9f3a"
             ],
             [
              0.8888888888888888,
              "#fdca26"
             ],
             [
              1,
              "#f0f921"
             ]
            ],
            "type": "surface"
           }
          ],
          "table": [
           {
            "cells": {
             "fill": {
              "color": "#EBF0F8"
             },
             "line": {
              "color": "white"
             }
            },
            "header": {
             "fill": {
              "color": "#C8D4E3"
             },
             "line": {
              "color": "white"
             }
            },
            "type": "table"
           }
          ]
         },
         "layout": {
          "annotationdefaults": {
           "arrowcolor": "#2a3f5f",
           "arrowhead": 0,
           "arrowwidth": 1
          },
          "autotypenumbers": "strict",
          "coloraxis": {
           "colorbar": {
            "outlinewidth": 0,
            "ticks": ""
           }
          },
          "colorscale": {
           "diverging": [
            [
             0,
             "#8e0152"
            ],
            [
             0.1,
             "#c51b7d"
            ],
            [
             0.2,
             "#de77ae"
            ],
            [
             0.3,
             "#f1b6da"
            ],
            [
             0.4,
             "#fde0ef"
            ],
            [
             0.5,
             "#f7f7f7"
            ],
            [
             0.6,
             "#e6f5d0"
            ],
            [
             0.7,
             "#b8e186"
            ],
            [
             0.8,
             "#7fbc41"
            ],
            [
             0.9,
             "#4d9221"
            ],
            [
             1,
             "#276419"
            ]
           ],
           "sequential": [
            [
             0,
             "#0d0887"
            ],
            [
             0.1111111111111111,
             "#46039f"
            ],
            [
             0.2222222222222222,
             "#7201a8"
            ],
            [
             0.3333333333333333,
             "#9c179e"
            ],
            [
             0.4444444444444444,
             "#bd3786"
            ],
            [
             0.5555555555555556,
             "#d8576b"
            ],
            [
             0.6666666666666666,
             "#ed7953"
            ],
            [
             0.7777777777777778,
             "#fb9f3a"
            ],
            [
             0.8888888888888888,
             "#fdca26"
            ],
            [
             1,
             "#f0f921"
            ]
           ],
           "sequentialminus": [
            [
             0,
             "#0d0887"
            ],
            [
             0.1111111111111111,
             "#46039f"
            ],
            [
             0.2222222222222222,
             "#7201a8"
            ],
            [
             0.3333333333333333,
             "#9c179e"
            ],
            [
             0.4444444444444444,
             "#bd3786"
            ],
            [
             0.5555555555555556,
             "#d8576b"
            ],
            [
             0.6666666666666666,
             "#ed7953"
            ],
            [
             0.7777777777777778,
             "#fb9f3a"
            ],
            [
             0.8888888888888888,
             "#fdca26"
            ],
            [
             1,
             "#f0f921"
            ]
           ]
          },
          "colorway": [
           "#636efa",
           "#EF553B",
           "#00cc96",
           "#ab63fa",
           "#FFA15A",
           "#19d3f3",
           "#FF6692",
           "#B6E880",
           "#FF97FF",
           "#FECB52"
          ],
          "font": {
           "color": "#2a3f5f"
          },
          "geo": {
           "bgcolor": "white",
           "lakecolor": "white",
           "landcolor": "#E5ECF6",
           "showlakes": true,
           "showland": true,
           "subunitcolor": "white"
          },
          "hoverlabel": {
           "align": "left"
          },
          "hovermode": "closest",
          "mapbox": {
           "style": "light"
          },
          "paper_bgcolor": "white",
          "plot_bgcolor": "#E5ECF6",
          "polar": {
           "angularaxis": {
            "gridcolor": "white",
            "linecolor": "white",
            "ticks": ""
           },
           "bgcolor": "#E5ECF6",
           "radialaxis": {
            "gridcolor": "white",
            "linecolor": "white",
            "ticks": ""
           }
          },
          "scene": {
           "xaxis": {
            "backgroundcolor": "#E5ECF6",
            "gridcolor": "white",
            "gridwidth": 2,
            "linecolor": "white",
            "showbackground": true,
            "ticks": "",
            "zerolinecolor": "white"
           },
           "yaxis": {
            "backgroundcolor": "#E5ECF6",
            "gridcolor": "white",
            "gridwidth": 2,
            "linecolor": "white",
            "showbackground": true,
            "ticks": "",
            "zerolinecolor": "white"
           },
           "zaxis": {
            "backgroundcolor": "#E5ECF6",
            "gridcolor": "white",
            "gridwidth": 2,
            "linecolor": "white",
            "showbackground": true,
            "ticks": "",
            "zerolinecolor": "white"
           }
          },
          "shapedefaults": {
           "line": {
            "color": "#2a3f5f"
           }
          },
          "ternary": {
           "aaxis": {
            "gridcolor": "white",
            "linecolor": "white",
            "ticks": ""
           },
           "baxis": {
            "gridcolor": "white",
            "linecolor": "white",
            "ticks": ""
           },
           "bgcolor": "#E5ECF6",
           "caxis": {
            "gridcolor": "white",
            "linecolor": "white",
            "ticks": ""
           }
          },
          "title": {
           "x": 0.05
          },
          "xaxis": {
           "automargin": true,
           "gridcolor": "white",
           "linecolor": "white",
           "ticks": "",
           "title": {
            "standoff": 15
           },
           "zerolinecolor": "white",
           "zerolinewidth": 2
          },
          "yaxis": {
           "automargin": true,
           "gridcolor": "white",
           "linecolor": "white",
           "ticks": "",
           "title": {
            "standoff": 15
           },
           "zerolinecolor": "white",
           "zerolinewidth": 2
          }
         }
        },
        "xaxis": {
         "anchor": "y",
         "domain": [
          0,
          1
         ],
         "title": {
          "text": "Date"
         }
        },
        "yaxis": {
         "anchor": "x",
         "domain": [
          0,
          1
         ],
         "title": {
          "text": "Number of A&E attendances"
         }
        }
       }
      }
     },
     "metadata": {},
     "output_type": "display_data"
    }
   ],
   "source": [
    "pd.options.plotting.backend = \"plotly\"\n",
    "fig = px.bar(df_final_group, x='Date', y= [\"Type 1\", \"Type 2\",\"Other\"],\n",
    "color_discrete_sequence=[\"#003087\", \"#0072CE\", \"#41B6E6\"],\n",
    "labels={\"value\": \"Number of A&E attendances\", \"variable\": \"A&E attendances\"})\n",
    "fig.update_layout(\n",
    "    {\"plot_bgcolor\": \"rgba(0, 0, 0, 0)\", \"paper_bgcolor\": \"rgba(0, 0, 0, 0)\"},\n",
    "    font = dict(family = \"Arial\", size = 16),\n",
    "    autosize=True,\n",
    "    margin=dict(l=50, r=50, b=50, t=50, pad=4, autoexpand=True),\n",
    ")\n",
    "fig.show()\n",
    "import plotly.io as pio\n",
    "pio.write_image(fig, 'image.png', format= \"png\", scale=1, width=1500, height=700)"
   ]
  },
  {
   "cell_type": "code",
   "execution_count": null,
   "metadata": {},
   "outputs": [],
   "source": [
    "mask = (df_final_group['Date'] <= '2019-10-01')\n",
    "df_final_precovid = df_final_group.loc[mask]\n",
    "df_final_precovid "
   ]
  },
  {
   "cell_type": "code",
   "execution_count": null,
   "metadata": {},
   "outputs": [],
   "source": [
    "df_precvoid_prophet = df_final_precovid[['Date', 'Total A&E attendences']]\n",
    "df_precvoid_prophet_1 = df_precvoid_prophet.rename(columns = {'Date': 'ds', 'Total A&E attendences': 'y' })"
   ]
  },
  {
   "cell_type": "code",
   "execution_count": null,
   "metadata": {},
   "outputs": [],
   "source": [
    "model = Prophet()\n",
    "model.fit(df_precvoid_prophet_1)\n",
    "future = list()\n",
    "for i in range(1, 13):\n",
    "\tdate = '2019-%01d-01' % i\n",
    "\tfuture.append([date])\n",
    "future = DataFrame(future)\n",
    "future.columns = ['ds']\n",
    "future['ds']= to_datetime(future['ds'])\n",
    "forecast = model.predict(future)\n",
    "# summarize the forecast\n",
    "historical_forecast = pd.DataFrame(forecast[['ds', 'yhat', 'yhat_lower', 'yhat_upper']])\n",
    "# plot forecast\n",
    "figure(figsize = (18, 14), dpi = 250)\n",
    "model.plot(forecast)\n",
    "matplotlib.pyplot.xlabel(\"Date\")\n",
    "matplotlib.pyplot.ylabel(\"Total A&E attendences (x10^6)\")\n",
    "plt.title(\"Total A&E attendences Prophet Prediction fit 2019-01 to 2019-12\", fontweight =\"bold\")\n",
    "pyplot.show()\n",
    "plt.rcParams.update({'font.size': 16})"
   ]
  },
  {
   "cell_type": "code",
   "execution_count": null,
   "metadata": {},
   "outputs": [],
   "source": [
    "figure(figsize = (18, 14), dpi = 250)\n",
    "future = list()\n",
    "for i in range(1, 13):\n",
    "\tdate = '2020-%01d' % i\n",
    "\tfuture.append([date])\n",
    "for i in range(1, 13):\n",
    "  date = '2021-%01d' % i\n",
    "  future.append([date])\n",
    "future = DataFrame(future)\n",
    "future.columns = ['ds']\n",
    "future['ds']= to_datetime(future['ds'])\n",
    "forecast = model.predict(future)\n",
    "# summarize the forecast\n",
    "future_forecast = pd.DataFrame(forecast[['ds', 'yhat', 'yhat_lower', 'yhat_upper']])\n",
    "# plot forecast\n",
    "model.plot(forecast)\n",
    "matplotlib.pyplot.xlabel(\"Date\")\n",
    "matplotlib.pyplot.ylabel(\"Total A&E attendences (x10^6)\")\n",
    "plt.title(\"Total A&E attendences Prophet Prediction 2020-01 to 2021-12\", fontweight =\"bold\")\n",
    "pyplot.show()\n",
    "plt.rcParams.update({'font.size': 16})\n"
   ]
  },
  {
   "cell_type": "code",
   "execution_count": null,
   "metadata": {},
   "outputs": [],
   "source": [
    "#Manually Evaluate Forecast Model\n",
    "train = df_precvoid_prophet_1.drop(df_precvoid_prophet_1.index[-12:])\n",
    "print(train)\n",
    "# define the model\n",
    "model = Prophet()\n",
    "# fit the model\n",
    "model.fit(train)\n",
    "# define the period for which we want a prediction\n",
    "figure(figsize = (18, 14), dpi = 250)\n",
    "future = list()\n",
    "for i in range(1, 13):\n",
    "\tdate = '2019-%01d-01' % i\n",
    "\tfuture.append([date])\n",
    "future = DataFrame(future)\n",
    "future.columns = ['ds']\n",
    "future['ds'] = to_datetime(future['ds'])\n",
    "# use the model to make a forecast\n",
    "forecast = model.predict(future)\n",
    "# calculate MAE between expected and predicted values for december\n",
    "y_true = df_precvoid_prophet_1['y'][-12:].values\n",
    "y_pred = forecast['yhat'].values\n",
    "# plot expected vs actual\n",
    "pyplot.plot(y_true, label='Actual')\n",
    "pyplot.plot(y_pred, label='Predicted')\n",
    "matplotlib.pyplot.xlabel(\"Month\")\n",
    "matplotlib.pyplot.ylabel(\"Total A&E attendences (x10^6)\")\n",
    "plt.title(\"Plot of Actual vs. Predicted Values for Last 11 Months of Total A&E attendence data\", fontweight =\"bold\")\n",
    "pyplot.legend()\n",
    "pyplot.show()\n",
    "plt.rcParams.update({'font.size': 16})"
   ]
  },
  {
   "cell_type": "code",
   "execution_count": null,
   "metadata": {},
   "outputs": [],
   "source": [
    "mae = mean_absolute_error(y_true, y_pred)\n",
    "mape = mean_absolute_percentage_error(y_true, y_pred)"
   ]
  }
 ],
 "metadata": {
  "interpreter": {
   "hash": "aee8b7b246df8f9039afb4144a1f6fd8d2ca17a180786b69acc140d282b71a49"
  },
  "kernelspec": {
   "display_name": "Python 3.9.1 64-bit",
   "language": "python",
   "name": "python3"
  },
  "language_info": {
   "codemirror_mode": {
    "name": "ipython",
    "version": 3
   },
   "file_extension": ".py",
   "mimetype": "text/x-python",
   "name": "python",
   "nbconvert_exporter": "python",
   "pygments_lexer": "ipython3",
   "version": "3.8.8"
  },
  "orig_nbformat": 4
 },
 "nbformat": 4,
 "nbformat_minor": 2
}
