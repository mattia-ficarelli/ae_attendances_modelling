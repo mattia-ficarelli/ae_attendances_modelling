{
 "cells": [
  {
   "cell_type": "code",
   "execution_count": 15,
   "metadata": {},
   "outputs": [],
   "source": [
    "import pandas as pd\n",
    "from os import listdir\n",
    "from os.path import isfile, join\n",
    "import plotly.express as px"
   ]
  },
  {
   "cell_type": "code",
   "execution_count": 2,
   "metadata": {},
   "outputs": [],
   "source": [
    "path = '/Users/mattiaficarelli/Desktop/AE_admissions_data/'\n",
    "file_header_list = ['Period',\n",
    "'Org Code', \n",
    "'Parent Org', \n",
    "'Org name', \n",
    "'A&E attendances Type 1', \n",
    "'A&E attendances Type 2', \n",
    "'A&E attendances Other A&E Department',\n",
    "'A&E attendances Booked Appointments Type 1',\n",
    "'A&E attendances Booked Appointments Type 2',\n",
    "'A&E attendances Booked Appointments Other Department',\n",
    "'Attendances over 4hrs Type 1',\n",
    "'Attendances over 4hrs Type 2',\n",
    "'Attendances over 4hrs Other Department',\n",
    "'Attendances over 4hrs Booked Appointments Type 1',\n",
    "'Attendances over 4hrs Booked Appointments Type 2',\n",
    "'Attendances over 4hrs Booked Appointments Other Department',\n",
    "'Patients who have waited 4-12 hs from DTA to admission',\n",
    "'Patients who have waited 12+ hrs from DTA to admission',\n",
    "'Emergency admissions via A&E - Type 1',\n",
    "'Emergency admissions via A&E - Type 2',\n",
    "'Emergency admissions via A&E - Other A&E department',\n",
    "'Other emergency admissions']\n"
   ]
  },
  {
   "cell_type": "code",
   "execution_count": 3,
   "metadata": {},
   "outputs": [],
   "source": [
    "\n",
    "onlyfiles = [f for f in listdir(path) if isfile(join(path, f))]\n",
    "df_append = pd.DataFrame()\n",
    "for file in onlyfiles:\n",
    "    df = pd.read_csv(path + file, names = file_header_list, skiprows=1)\n",
    "    df_append = df_append.append(df, ignore_index=True)"
   ]
  },
  {
   "cell_type": "code",
   "execution_count": 27,
   "metadata": {},
   "outputs": [],
   "source": [
    "df_clean_1 = df_append[df_append[\"Period\"].str.contains(\"TOTAL\")==False].reset_index(drop = True)\n",
    "df_clean_1['Period'] = pd.to_datetime(df_clean_1['Period'].str.replace(\"MSitAE-\", \"\"))\n",
    "df_clean_2 = df_clean_1.sort_values(by=['Period']).reset_index(drop = True)\n",
    "df_clean_3 = df_clean_2[[\"Period\", \"Org Code\",\"Org name\", \"A&E attendances Type 1\",\"A&E attendances Type 2\", 'A&E attendances Other A&E Department']]\n",
    "df_clean_4 = df_clean_3.rename(columns = {'Period': 'Date', 'Org Code': 'ODS code', 'Org name': 'Organisation name', 'A&E attendances Type 1': 'Type 1', 'A&E attendances Type 2': 'Type 2', 'A&E attendances Other A&E Department': 'Other'})\n",
    "df_clean_4[\"Total A&E attendences\"] = df_clean_4[\"Type 1\"] + df_clean_4[\"Type 2\"] + df_clean_4[\"Other\"]"
   ]
  },
  {
   "cell_type": "code",
   "execution_count": 28,
   "metadata": {},
   "outputs": [
    {
     "data": {
      "text/html": [
       "<div>\n",
       "<style scoped>\n",
       "    .dataframe tbody tr th:only-of-type {\n",
       "        vertical-align: middle;\n",
       "    }\n",
       "\n",
       "    .dataframe tbody tr th {\n",
       "        vertical-align: top;\n",
       "    }\n",
       "\n",
       "    .dataframe thead th {\n",
       "        text-align: right;\n",
       "    }\n",
       "</style>\n",
       "<table border=\"1\" class=\"dataframe\">\n",
       "  <thead>\n",
       "    <tr style=\"text-align: right;\">\n",
       "      <th></th>\n",
       "      <th>Date</th>\n",
       "      <th>Type 1</th>\n",
       "      <th>Type 2</th>\n",
       "      <th>Other</th>\n",
       "      <th>Total A&amp;E attendences</th>\n",
       "    </tr>\n",
       "  </thead>\n",
       "  <tbody>\n",
       "    <tr>\n",
       "      <th>0</th>\n",
       "      <td>2018-04-01</td>\n",
       "      <td>1246348.0</td>\n",
       "      <td>47256.0</td>\n",
       "      <td>690765.0</td>\n",
       "      <td>1984369.0</td>\n",
       "    </tr>\n",
       "    <tr>\n",
       "      <th>1</th>\n",
       "      <td>2018-05-01</td>\n",
       "      <td>1354711.0</td>\n",
       "      <td>49219.0</td>\n",
       "      <td>760528.0</td>\n",
       "      <td>2164458.0</td>\n",
       "    </tr>\n",
       "    <tr>\n",
       "      <th>2</th>\n",
       "      <td>2018-06-01</td>\n",
       "      <td>1306739.0</td>\n",
       "      <td>49635.0</td>\n",
       "      <td>737568.0</td>\n",
       "      <td>2093942.0</td>\n",
       "    </tr>\n",
       "    <tr>\n",
       "      <th>3</th>\n",
       "      <td>2018-07-01</td>\n",
       "      <td>1365859.0</td>\n",
       "      <td>49846.0</td>\n",
       "      <td>764191.0</td>\n",
       "      <td>2179896.0</td>\n",
       "    </tr>\n",
       "    <tr>\n",
       "      <th>4</th>\n",
       "      <td>2018-08-01</td>\n",
       "      <td>1252767.0</td>\n",
       "      <td>49117.0</td>\n",
       "      <td>695970.0</td>\n",
       "      <td>1997854.0</td>\n",
       "    </tr>\n",
       "    <tr>\n",
       "      <th>5</th>\n",
       "      <td>2018-09-01</td>\n",
       "      <td>1269088.0</td>\n",
       "      <td>47622.0</td>\n",
       "      <td>688985.0</td>\n",
       "      <td>2005695.0</td>\n",
       "    </tr>\n",
       "    <tr>\n",
       "      <th>6</th>\n",
       "      <td>2018-10-01</td>\n",
       "      <td>1320032.0</td>\n",
       "      <td>51282.0</td>\n",
       "      <td>708178.0</td>\n",
       "      <td>2079492.0</td>\n",
       "    </tr>\n",
       "    <tr>\n",
       "      <th>7</th>\n",
       "      <td>2018-11-01</td>\n",
       "      <td>1305353.0</td>\n",
       "      <td>48465.0</td>\n",
       "      <td>684029.0</td>\n",
       "      <td>2037847.0</td>\n",
       "    </tr>\n",
       "    <tr>\n",
       "      <th>8</th>\n",
       "      <td>2018-12-01</td>\n",
       "      <td>1307359.0</td>\n",
       "      <td>43072.0</td>\n",
       "      <td>697087.0</td>\n",
       "      <td>2047518.0</td>\n",
       "    </tr>\n",
       "    <tr>\n",
       "      <th>9</th>\n",
       "      <td>2019-01-01</td>\n",
       "      <td>1344354.0</td>\n",
       "      <td>47616.0</td>\n",
       "      <td>721443.0</td>\n",
       "      <td>2113413.0</td>\n",
       "    </tr>\n",
       "    <tr>\n",
       "      <th>10</th>\n",
       "      <td>2019-02-01</td>\n",
       "      <td>1234328.0</td>\n",
       "      <td>44183.0</td>\n",
       "      <td>676436.0</td>\n",
       "      <td>1954947.0</td>\n",
       "    </tr>\n",
       "    <tr>\n",
       "      <th>11</th>\n",
       "      <td>2019-03-01</td>\n",
       "      <td>1373061.0</td>\n",
       "      <td>50490.0</td>\n",
       "      <td>744000.0</td>\n",
       "      <td>2167551.0</td>\n",
       "    </tr>\n",
       "    <tr>\n",
       "      <th>12</th>\n",
       "      <td>2019-04-01</td>\n",
       "      <td>1330825.0</td>\n",
       "      <td>49281.0</td>\n",
       "      <td>732059.0</td>\n",
       "      <td>2112165.0</td>\n",
       "    </tr>\n",
       "    <tr>\n",
       "      <th>13</th>\n",
       "      <td>2019-05-01</td>\n",
       "      <td>1369332.0</td>\n",
       "      <td>50642.0</td>\n",
       "      <td>752032.0</td>\n",
       "      <td>2172006.0</td>\n",
       "    </tr>\n",
       "    <tr>\n",
       "      <th>14</th>\n",
       "      <td>2019-06-01</td>\n",
       "      <td>1334137.0</td>\n",
       "      <td>49233.0</td>\n",
       "      <td>724617.0</td>\n",
       "      <td>2107987.0</td>\n",
       "    </tr>\n",
       "    <tr>\n",
       "      <th>15</th>\n",
       "      <td>2019-07-01</td>\n",
       "      <td>1415918.0</td>\n",
       "      <td>52418.0</td>\n",
       "      <td>796714.0</td>\n",
       "      <td>2265050.0</td>\n",
       "    </tr>\n",
       "    <tr>\n",
       "      <th>16</th>\n",
       "      <td>2019-08-01</td>\n",
       "      <td>1324070.0</td>\n",
       "      <td>48786.0</td>\n",
       "      <td>752579.0</td>\n",
       "      <td>2125435.0</td>\n",
       "    </tr>\n",
       "    <tr>\n",
       "      <th>17</th>\n",
       "      <td>2019-09-01</td>\n",
       "      <td>1342510.0</td>\n",
       "      <td>48217.0</td>\n",
       "      <td>732618.0</td>\n",
       "      <td>2123345.0</td>\n",
       "    </tr>\n",
       "    <tr>\n",
       "      <th>18</th>\n",
       "      <td>2019-10-01</td>\n",
       "      <td>1376347.0</td>\n",
       "      <td>50391.0</td>\n",
       "      <td>744147.0</td>\n",
       "      <td>2170885.0</td>\n",
       "    </tr>\n",
       "    <tr>\n",
       "      <th>19</th>\n",
       "      <td>2019-11-01</td>\n",
       "      <td>1366383.0</td>\n",
       "      <td>47179.0</td>\n",
       "      <td>729943.0</td>\n",
       "      <td>2143505.0</td>\n",
       "    </tr>\n",
       "    <tr>\n",
       "      <th>20</th>\n",
       "      <td>2019-12-01</td>\n",
       "      <td>1373654.0</td>\n",
       "      <td>43458.0</td>\n",
       "      <td>763425.0</td>\n",
       "      <td>2180537.0</td>\n",
       "    </tr>\n",
       "    <tr>\n",
       "      <th>21</th>\n",
       "      <td>2020-01-01</td>\n",
       "      <td>1327234.0</td>\n",
       "      <td>49597.0</td>\n",
       "      <td>737878.0</td>\n",
       "      <td>2114709.0</td>\n",
       "    </tr>\n",
       "    <tr>\n",
       "      <th>22</th>\n",
       "      <td>2020-02-01</td>\n",
       "      <td>1237255.0</td>\n",
       "      <td>45124.0</td>\n",
       "      <td>687312.0</td>\n",
       "      <td>1969691.0</td>\n",
       "    </tr>\n",
       "    <tr>\n",
       "      <th>23</th>\n",
       "      <td>2020-03-01</td>\n",
       "      <td>1013021.0</td>\n",
       "      <td>32747.0</td>\n",
       "      <td>486033.0</td>\n",
       "      <td>1531801.0</td>\n",
       "    </tr>\n",
       "    <tr>\n",
       "      <th>24</th>\n",
       "      <td>2020-04-01</td>\n",
       "      <td>689720.0</td>\n",
       "      <td>19726.0</td>\n",
       "      <td>207129.0</td>\n",
       "      <td>916575.0</td>\n",
       "    </tr>\n",
       "    <tr>\n",
       "      <th>25</th>\n",
       "      <td>2020-05-01</td>\n",
       "      <td>924218.0</td>\n",
       "      <td>26479.0</td>\n",
       "      <td>311140.0</td>\n",
       "      <td>1261837.0</td>\n",
       "    </tr>\n",
       "    <tr>\n",
       "      <th>26</th>\n",
       "      <td>2020-06-01</td>\n",
       "      <td>1016132.0</td>\n",
       "      <td>30894.0</td>\n",
       "      <td>363576.0</td>\n",
       "      <td>1410602.0</td>\n",
       "    </tr>\n",
       "    <tr>\n",
       "      <th>27</th>\n",
       "      <td>2020-07-01</td>\n",
       "      <td>1120421.0</td>\n",
       "      <td>32759.0</td>\n",
       "      <td>435106.0</td>\n",
       "      <td>1588286.0</td>\n",
       "    </tr>\n",
       "    <tr>\n",
       "      <th>28</th>\n",
       "      <td>2020-08-01</td>\n",
       "      <td>1177618.0</td>\n",
       "      <td>32231.0</td>\n",
       "      <td>488679.0</td>\n",
       "      <td>1698528.0</td>\n",
       "    </tr>\n",
       "    <tr>\n",
       "      <th>29</th>\n",
       "      <td>2020-09-01</td>\n",
       "      <td>1160746.0</td>\n",
       "      <td>33295.0</td>\n",
       "      <td>476334.0</td>\n",
       "      <td>1670375.0</td>\n",
       "    </tr>\n",
       "    <tr>\n",
       "      <th>30</th>\n",
       "      <td>2020-10-01</td>\n",
       "      <td>1107461.0</td>\n",
       "      <td>33012.0</td>\n",
       "      <td>434407.0</td>\n",
       "      <td>1574880.0</td>\n",
       "    </tr>\n",
       "    <tr>\n",
       "      <th>31</th>\n",
       "      <td>2020-11-01</td>\n",
       "      <td>1030384.0</td>\n",
       "      <td>31872.0</td>\n",
       "      <td>394944.0</td>\n",
       "      <td>1457200.0</td>\n",
       "    </tr>\n",
       "    <tr>\n",
       "      <th>32</th>\n",
       "      <td>2020-12-01</td>\n",
       "      <td>1023961.0</td>\n",
       "      <td>29806.0</td>\n",
       "      <td>380987.0</td>\n",
       "      <td>1434754.0</td>\n",
       "    </tr>\n",
       "    <tr>\n",
       "      <th>33</th>\n",
       "      <td>2021-01-01</td>\n",
       "      <td>919250.0</td>\n",
       "      <td>25719.0</td>\n",
       "      <td>318592.0</td>\n",
       "      <td>1263561.0</td>\n",
       "    </tr>\n",
       "    <tr>\n",
       "      <th>34</th>\n",
       "      <td>2021-02-01</td>\n",
       "      <td>880439.0</td>\n",
       "      <td>27859.0</td>\n",
       "      <td>321823.0</td>\n",
       "      <td>1230121.0</td>\n",
       "    </tr>\n",
       "    <tr>\n",
       "      <th>35</th>\n",
       "      <td>2021-03-01</td>\n",
       "      <td>1128679.0</td>\n",
       "      <td>35528.0</td>\n",
       "      <td>458095.0</td>\n",
       "      <td>1622302.0</td>\n",
       "    </tr>\n",
       "    <tr>\n",
       "      <th>36</th>\n",
       "      <td>2021-04-01</td>\n",
       "      <td>1223400.0</td>\n",
       "      <td>35234.0</td>\n",
       "      <td>532888.0</td>\n",
       "      <td>1791522.0</td>\n",
       "    </tr>\n",
       "    <tr>\n",
       "      <th>37</th>\n",
       "      <td>2021-05-01</td>\n",
       "      <td>1353768.0</td>\n",
       "      <td>36919.0</td>\n",
       "      <td>596681.0</td>\n",
       "      <td>1987368.0</td>\n",
       "    </tr>\n",
       "    <tr>\n",
       "      <th>38</th>\n",
       "      <td>2021-06-01</td>\n",
       "      <td>1398360.0</td>\n",
       "      <td>39046.0</td>\n",
       "      <td>642973.0</td>\n",
       "      <td>2080379.0</td>\n",
       "    </tr>\n",
       "    <tr>\n",
       "      <th>39</th>\n",
       "      <td>2021-07-01</td>\n",
       "      <td>1396704.0</td>\n",
       "      <td>39127.0</td>\n",
       "      <td>651550.0</td>\n",
       "      <td>2087381.0</td>\n",
       "    </tr>\n",
       "    <tr>\n",
       "      <th>40</th>\n",
       "      <td>2021-08-01</td>\n",
       "      <td>1307515.0</td>\n",
       "      <td>39577.0</td>\n",
       "      <td>619694.0</td>\n",
       "      <td>1966786.0</td>\n",
       "    </tr>\n",
       "    <tr>\n",
       "      <th>41</th>\n",
       "      <td>2021-09-01</td>\n",
       "      <td>1359673.0</td>\n",
       "      <td>40228.0</td>\n",
       "      <td>659084.0</td>\n",
       "      <td>2058985.0</td>\n",
       "    </tr>\n",
       "    <tr>\n",
       "      <th>42</th>\n",
       "      <td>2021-10-01</td>\n",
       "      <td>1384402.0</td>\n",
       "      <td>39474.0</td>\n",
       "      <td>665990.0</td>\n",
       "      <td>2089866.0</td>\n",
       "    </tr>\n",
       "    <tr>\n",
       "      <th>43</th>\n",
       "      <td>2021-11-01</td>\n",
       "      <td>1300577.0</td>\n",
       "      <td>38821.0</td>\n",
       "      <td>624035.0</td>\n",
       "      <td>1963433.0</td>\n",
       "    </tr>\n",
       "    <tr>\n",
       "      <th>44</th>\n",
       "      <td>2021-12-01</td>\n",
       "      <td>1216723.0</td>\n",
       "      <td>34767.0</td>\n",
       "      <td>553238.0</td>\n",
       "      <td>1804728.0</td>\n",
       "    </tr>\n",
       "  </tbody>\n",
       "</table>\n",
       "</div>"
      ],
      "text/plain": [
       "         Date     Type 1   Type 2     Other  Total A&E attendences\n",
       "0  2018-04-01  1246348.0  47256.0  690765.0              1984369.0\n",
       "1  2018-05-01  1354711.0  49219.0  760528.0              2164458.0\n",
       "2  2018-06-01  1306739.0  49635.0  737568.0              2093942.0\n",
       "3  2018-07-01  1365859.0  49846.0  764191.0              2179896.0\n",
       "4  2018-08-01  1252767.0  49117.0  695970.0              1997854.0\n",
       "5  2018-09-01  1269088.0  47622.0  688985.0              2005695.0\n",
       "6  2018-10-01  1320032.0  51282.0  708178.0              2079492.0\n",
       "7  2018-11-01  1305353.0  48465.0  684029.0              2037847.0\n",
       "8  2018-12-01  1307359.0  43072.0  697087.0              2047518.0\n",
       "9  2019-01-01  1344354.0  47616.0  721443.0              2113413.0\n",
       "10 2019-02-01  1234328.0  44183.0  676436.0              1954947.0\n",
       "11 2019-03-01  1373061.0  50490.0  744000.0              2167551.0\n",
       "12 2019-04-01  1330825.0  49281.0  732059.0              2112165.0\n",
       "13 2019-05-01  1369332.0  50642.0  752032.0              2172006.0\n",
       "14 2019-06-01  1334137.0  49233.0  724617.0              2107987.0\n",
       "15 2019-07-01  1415918.0  52418.0  796714.0              2265050.0\n",
       "16 2019-08-01  1324070.0  48786.0  752579.0              2125435.0\n",
       "17 2019-09-01  1342510.0  48217.0  732618.0              2123345.0\n",
       "18 2019-10-01  1376347.0  50391.0  744147.0              2170885.0\n",
       "19 2019-11-01  1366383.0  47179.0  729943.0              2143505.0\n",
       "20 2019-12-01  1373654.0  43458.0  763425.0              2180537.0\n",
       "21 2020-01-01  1327234.0  49597.0  737878.0              2114709.0\n",
       "22 2020-02-01  1237255.0  45124.0  687312.0              1969691.0\n",
       "23 2020-03-01  1013021.0  32747.0  486033.0              1531801.0\n",
       "24 2020-04-01   689720.0  19726.0  207129.0               916575.0\n",
       "25 2020-05-01   924218.0  26479.0  311140.0              1261837.0\n",
       "26 2020-06-01  1016132.0  30894.0  363576.0              1410602.0\n",
       "27 2020-07-01  1120421.0  32759.0  435106.0              1588286.0\n",
       "28 2020-08-01  1177618.0  32231.0  488679.0              1698528.0\n",
       "29 2020-09-01  1160746.0  33295.0  476334.0              1670375.0\n",
       "30 2020-10-01  1107461.0  33012.0  434407.0              1574880.0\n",
       "31 2020-11-01  1030384.0  31872.0  394944.0              1457200.0\n",
       "32 2020-12-01  1023961.0  29806.0  380987.0              1434754.0\n",
       "33 2021-01-01   919250.0  25719.0  318592.0              1263561.0\n",
       "34 2021-02-01   880439.0  27859.0  321823.0              1230121.0\n",
       "35 2021-03-01  1128679.0  35528.0  458095.0              1622302.0\n",
       "36 2021-04-01  1223400.0  35234.0  532888.0              1791522.0\n",
       "37 2021-05-01  1353768.0  36919.0  596681.0              1987368.0\n",
       "38 2021-06-01  1398360.0  39046.0  642973.0              2080379.0\n",
       "39 2021-07-01  1396704.0  39127.0  651550.0              2087381.0\n",
       "40 2021-08-01  1307515.0  39577.0  619694.0              1966786.0\n",
       "41 2021-09-01  1359673.0  40228.0  659084.0              2058985.0\n",
       "42 2021-10-01  1384402.0  39474.0  665990.0              2089866.0\n",
       "43 2021-11-01  1300577.0  38821.0  624035.0              1963433.0\n",
       "44 2021-12-01  1216723.0  34767.0  553238.0              1804728.0"
      ]
     },
     "execution_count": 28,
     "metadata": {},
     "output_type": "execute_result"
    }
   ],
   "source": [
    "df_clean_5 = df_clean_4.groupby(\"Date\").sum().reset_index()\n",
    "df_clean_5 "
   ]
  },
  {
   "cell_type": "code",
   "execution_count": 29,
   "metadata": {},
   "outputs": [
    {
     "data": {
      "application/vnd.plotly.v1+json": {
       "config": {
        "plotlyServerURL": "https://plot.ly"
       },
       "data": [
        {
         "alignmentgroup": "True",
         "hovertemplate": "A&E attendances=Type 1<br>Date=%{x}<br>Number of A&E attendances=%{y}<extra></extra>",
         "legendgroup": "Type 1",
         "marker": {
          "color": "#003087",
          "pattern": {
           "shape": ""
          }
         },
         "name": "Type 1",
         "offsetgroup": "Type 1",
         "orientation": "v",
         "showlegend": true,
         "textposition": "auto",
         "type": "bar",
         "x": [
          "2018-04-01T00:00:00",
          "2018-05-01T00:00:00",
          "2018-06-01T00:00:00",
          "2018-07-01T00:00:00",
          "2018-08-01T00:00:00",
          "2018-09-01T00:00:00",
          "2018-10-01T00:00:00",
          "2018-11-01T00:00:00",
          "2018-12-01T00:00:00",
          "2019-01-01T00:00:00",
          "2019-02-01T00:00:00",
          "2019-03-01T00:00:00",
          "2019-04-01T00:00:00",
          "2019-05-01T00:00:00",
          "2019-06-01T00:00:00",
          "2019-07-01T00:00:00",
          "2019-08-01T00:00:00",
          "2019-09-01T00:00:00",
          "2019-10-01T00:00:00",
          "2019-11-01T00:00:00",
          "2019-12-01T00:00:00",
          "2020-01-01T00:00:00",
          "2020-02-01T00:00:00",
          "2020-03-01T00:00:00",
          "2020-04-01T00:00:00",
          "2020-05-01T00:00:00",
          "2020-06-01T00:00:00",
          "2020-07-01T00:00:00",
          "2020-08-01T00:00:00",
          "2020-09-01T00:00:00",
          "2020-10-01T00:00:00",
          "2020-11-01T00:00:00",
          "2020-12-01T00:00:00",
          "2021-01-01T00:00:00",
          "2021-02-01T00:00:00",
          "2021-03-01T00:00:00",
          "2021-04-01T00:00:00",
          "2021-05-01T00:00:00",
          "2021-06-01T00:00:00",
          "2021-07-01T00:00:00",
          "2021-08-01T00:00:00",
          "2021-09-01T00:00:00",
          "2021-10-01T00:00:00",
          "2021-11-01T00:00:00",
          "2021-12-01T00:00:00"
         ],
         "xaxis": "x",
         "y": [
          1246348,
          1354711,
          1306739,
          1365859,
          1252767,
          1269088,
          1320032,
          1305353,
          1307359,
          1344354,
          1234328,
          1373061,
          1330825,
          1369332,
          1334137,
          1415918,
          1324070,
          1342510,
          1376347,
          1366383,
          1373654,
          1327234,
          1237255,
          1013021,
          689720,
          924218,
          1016132,
          1120421,
          1177618,
          1160746,
          1107461,
          1030384,
          1023961,
          919250,
          880439,
          1128679,
          1223400,
          1353768,
          1398360,
          1396704,
          1307515,
          1359673,
          1384402,
          1300577,
          1216723
         ],
         "yaxis": "y"
        },
        {
         "alignmentgroup": "True",
         "hovertemplate": "A&E attendances=Type 2<br>Date=%{x}<br>Number of A&E attendances=%{y}<extra></extra>",
         "legendgroup": "Type 2",
         "marker": {
          "color": "#0072CE",
          "pattern": {
           "shape": ""
          }
         },
         "name": "Type 2",
         "offsetgroup": "Type 2",
         "orientation": "v",
         "showlegend": true,
         "textposition": "auto",
         "type": "bar",
         "x": [
          "2018-04-01T00:00:00",
          "2018-05-01T00:00:00",
          "2018-06-01T00:00:00",
          "2018-07-01T00:00:00",
          "2018-08-01T00:00:00",
          "2018-09-01T00:00:00",
          "2018-10-01T00:00:00",
          "2018-11-01T00:00:00",
          "2018-12-01T00:00:00",
          "2019-01-01T00:00:00",
          "2019-02-01T00:00:00",
          "2019-03-01T00:00:00",
          "2019-04-01T00:00:00",
          "2019-05-01T00:00:00",
          "2019-06-01T00:00:00",
          "2019-07-01T00:00:00",
          "2019-08-01T00:00:00",
          "2019-09-01T00:00:00",
          "2019-10-01T00:00:00",
          "2019-11-01T00:00:00",
          "2019-12-01T00:00:00",
          "2020-01-01T00:00:00",
          "2020-02-01T00:00:00",
          "2020-03-01T00:00:00",
          "2020-04-01T00:00:00",
          "2020-05-01T00:00:00",
          "2020-06-01T00:00:00",
          "2020-07-01T00:00:00",
          "2020-08-01T00:00:00",
          "2020-09-01T00:00:00",
          "2020-10-01T00:00:00",
          "2020-11-01T00:00:00",
          "2020-12-01T00:00:00",
          "2021-01-01T00:00:00",
          "2021-02-01T00:00:00",
          "2021-03-01T00:00:00",
          "2021-04-01T00:00:00",
          "2021-05-01T00:00:00",
          "2021-06-01T00:00:00",
          "2021-07-01T00:00:00",
          "2021-08-01T00:00:00",
          "2021-09-01T00:00:00",
          "2021-10-01T00:00:00",
          "2021-11-01T00:00:00",
          "2021-12-01T00:00:00"
         ],
         "xaxis": "x",
         "y": [
          47256,
          49219,
          49635,
          49846,
          49117,
          47622,
          51282,
          48465,
          43072,
          47616,
          44183,
          50490,
          49281,
          50642,
          49233,
          52418,
          48786,
          48217,
          50391,
          47179,
          43458,
          49597,
          45124,
          32747,
          19726,
          26479,
          30894,
          32759,
          32231,
          33295,
          33012,
          31872,
          29806,
          25719,
          27859,
          35528,
          35234,
          36919,
          39046,
          39127,
          39577,
          40228,
          39474,
          38821,
          34767
         ],
         "yaxis": "y"
        },
        {
         "alignmentgroup": "True",
         "hovertemplate": "A&E attendances=Other<br>Date=%{x}<br>Number of A&E attendances=%{y}<extra></extra>",
         "legendgroup": "Other",
         "marker": {
          "color": "#41B6E6",
          "pattern": {
           "shape": ""
          }
         },
         "name": "Other",
         "offsetgroup": "Other",
         "orientation": "v",
         "showlegend": true,
         "textposition": "auto",
         "type": "bar",
         "x": [
          "2018-04-01T00:00:00",
          "2018-05-01T00:00:00",
          "2018-06-01T00:00:00",
          "2018-07-01T00:00:00",
          "2018-08-01T00:00:00",
          "2018-09-01T00:00:00",
          "2018-10-01T00:00:00",
          "2018-11-01T00:00:00",
          "2018-12-01T00:00:00",
          "2019-01-01T00:00:00",
          "2019-02-01T00:00:00",
          "2019-03-01T00:00:00",
          "2019-04-01T00:00:00",
          "2019-05-01T00:00:00",
          "2019-06-01T00:00:00",
          "2019-07-01T00:00:00",
          "2019-08-01T00:00:00",
          "2019-09-01T00:00:00",
          "2019-10-01T00:00:00",
          "2019-11-01T00:00:00",
          "2019-12-01T00:00:00",
          "2020-01-01T00:00:00",
          "2020-02-01T00:00:00",
          "2020-03-01T00:00:00",
          "2020-04-01T00:00:00",
          "2020-05-01T00:00:00",
          "2020-06-01T00:00:00",
          "2020-07-01T00:00:00",
          "2020-08-01T00:00:00",
          "2020-09-01T00:00:00",
          "2020-10-01T00:00:00",
          "2020-11-01T00:00:00",
          "2020-12-01T00:00:00",
          "2021-01-01T00:00:00",
          "2021-02-01T00:00:00",
          "2021-03-01T00:00:00",
          "2021-04-01T00:00:00",
          "2021-05-01T00:00:00",
          "2021-06-01T00:00:00",
          "2021-07-01T00:00:00",
          "2021-08-01T00:00:00",
          "2021-09-01T00:00:00",
          "2021-10-01T00:00:00",
          "2021-11-01T00:00:00",
          "2021-12-01T00:00:00"
         ],
         "xaxis": "x",
         "y": [
          690765,
          760528,
          737568,
          764191,
          695970,
          688985,
          708178,
          684029,
          697087,
          721443,
          676436,
          744000,
          732059,
          752032,
          724617,
          796714,
          752579,
          732618,
          744147,
          729943,
          763425,
          737878,
          687312,
          486033,
          207129,
          311140,
          363576,
          435106,
          488679,
          476334,
          434407,
          394944,
          380987,
          318592,
          321823,
          458095,
          532888,
          596681,
          642973,
          651550,
          619694,
          659084,
          665990,
          624035,
          553238
         ],
         "yaxis": "y"
        }
       ],
       "layout": {
        "autosize": true,
        "barmode": "relative",
        "font": {
         "family": "Arial",
         "size": 16
        },
        "legend": {
         "title": {
          "text": "A&E attendances"
         },
         "tracegroupgap": 0
        },
        "margin": {
         "autoexpand": true,
         "b": 50,
         "l": 50,
         "pad": 4,
         "r": 50,
         "t": 50
        },
        "paper_bgcolor": "rgba(0, 0, 0, 0)",
        "plot_bgcolor": "rgba(0, 0, 0, 0)",
        "template": {
         "data": {
          "bar": [
           {
            "error_x": {
             "color": "#2a3f5f"
            },
            "error_y": {
             "color": "#2a3f5f"
            },
            "marker": {
             "line": {
              "color": "#E5ECF6",
              "width": 0.5
             },
             "pattern": {
              "fillmode": "overlay",
              "size": 10,
              "solidity": 0.2
             }
            },
            "type": "bar"
           }
          ],
          "barpolar": [
           {
            "marker": {
             "line": {
              "color": "#E5ECF6",
              "width": 0.5
             },
             "pattern": {
              "fillmode": "overlay",
              "size": 10,
              "solidity": 0.2
             }
            },
            "type": "barpolar"
           }
          ],
          "carpet": [
           {
            "aaxis": {
             "endlinecolor": "#2a3f5f",
             "gridcolor": "white",
             "linecolor": "white",
             "minorgridcolor": "white",
             "startlinecolor": "#2a3f5f"
            },
            "baxis": {
             "endlinecolor": "#2a3f5f",
             "gridcolor": "white",
             "linecolor": "white",
             "minorgridcolor": "white",
             "startlinecolor": "#2a3f5f"
            },
            "type": "carpet"
           }
          ],
          "choropleth": [
           {
            "colorbar": {
             "outlinewidth": 0,
             "ticks": ""
            },
            "type": "choropleth"
           }
          ],
          "contour": [
           {
            "colorbar": {
             "outlinewidth": 0,
             "ticks": ""
            },
            "colorscale": [
             [
              0,
              "#0d0887"
             ],
             [
              0.1111111111111111,
              "#46039f"
             ],
             [
              0.2222222222222222,
              "#7201a8"
             ],
             [
              0.3333333333333333,
              "#9c179e"
             ],
             [
              0.4444444444444444,
              "#bd3786"
             ],
             [
              0.5555555555555556,
              "#d8576b"
             ],
             [
              0.6666666666666666,
              "#ed7953"
             ],
             [
              0.7777777777777778,
              "#fb9f3a"
             ],
             [
              0.8888888888888888,
              "#fdca26"
             ],
             [
              1,
              "#f0f921"
             ]
            ],
            "type": "contour"
           }
          ],
          "contourcarpet": [
           {
            "colorbar": {
             "outlinewidth": 0,
             "ticks": ""
            },
            "type": "contourcarpet"
           }
          ],
          "heatmap": [
           {
            "colorbar": {
             "outlinewidth": 0,
             "ticks": ""
            },
            "colorscale": [
             [
              0,
              "#0d0887"
             ],
             [
              0.1111111111111111,
              "#46039f"
             ],
             [
              0.2222222222222222,
              "#7201a8"
             ],
             [
              0.3333333333333333,
              "#9c179e"
             ],
             [
              0.4444444444444444,
              "#bd3786"
             ],
             [
              0.5555555555555556,
              "#d8576b"
             ],
             [
              0.6666666666666666,
              "#ed7953"
             ],
             [
              0.7777777777777778,
              "#fb9f3a"
             ],
             [
              0.8888888888888888,
              "#fdca26"
             ],
             [
              1,
              "#f0f921"
             ]
            ],
            "type": "heatmap"
           }
          ],
          "heatmapgl": [
           {
            "colorbar": {
             "outlinewidth": 0,
             "ticks": ""
            },
            "colorscale": [
             [
              0,
              "#0d0887"
             ],
             [
              0.1111111111111111,
              "#46039f"
             ],
             [
              0.2222222222222222,
              "#7201a8"
             ],
             [
              0.3333333333333333,
              "#9c179e"
             ],
             [
              0.4444444444444444,
              "#bd3786"
             ],
             [
              0.5555555555555556,
              "#d8576b"
             ],
             [
              0.6666666666666666,
              "#ed7953"
             ],
             [
              0.7777777777777778,
              "#fb9f3a"
             ],
             [
              0.8888888888888888,
              "#fdca26"
             ],
             [
              1,
              "#f0f921"
             ]
            ],
            "type": "heatmapgl"
           }
          ],
          "histogram": [
           {
            "marker": {
             "pattern": {
              "fillmode": "overlay",
              "size": 10,
              "solidity": 0.2
             }
            },
            "type": "histogram"
           }
          ],
          "histogram2d": [
           {
            "colorbar": {
             "outlinewidth": 0,
             "ticks": ""
            },
            "colorscale": [
             [
              0,
              "#0d0887"
             ],
             [
              0.1111111111111111,
              "#46039f"
             ],
             [
              0.2222222222222222,
              "#7201a8"
             ],
             [
              0.3333333333333333,
              "#9c179e"
             ],
             [
              0.4444444444444444,
              "#bd3786"
             ],
             [
              0.5555555555555556,
              "#d8576b"
             ],
             [
              0.6666666666666666,
              "#ed7953"
             ],
             [
              0.7777777777777778,
              "#fb9f3a"
             ],
             [
              0.8888888888888888,
              "#fdca26"
             ],
             [
              1,
              "#f0f921"
             ]
            ],
            "type": "histogram2d"
           }
          ],
          "histogram2dcontour": [
           {
            "colorbar": {
             "outlinewidth": 0,
             "ticks": ""
            },
            "colorscale": [
             [
              0,
              "#0d0887"
             ],
             [
              0.1111111111111111,
              "#46039f"
             ],
             [
              0.2222222222222222,
              "#7201a8"
             ],
             [
              0.3333333333333333,
              "#9c179e"
             ],
             [
              0.4444444444444444,
              "#bd3786"
             ],
             [
              0.5555555555555556,
              "#d8576b"
             ],
             [
              0.6666666666666666,
              "#ed7953"
             ],
             [
              0.7777777777777778,
              "#fb9f3a"
             ],
             [
              0.8888888888888888,
              "#fdca26"
             ],
             [
              1,
              "#f0f921"
             ]
            ],
            "type": "histogram2dcontour"
           }
          ],
          "mesh3d": [
           {
            "colorbar": {
             "outlinewidth": 0,
             "ticks": ""
            },
            "type": "mesh3d"
           }
          ],
          "parcoords": [
           {
            "line": {
             "colorbar": {
              "outlinewidth": 0,
              "ticks": ""
             }
            },
            "type": "parcoords"
           }
          ],
          "pie": [
           {
            "automargin": true,
            "type": "pie"
           }
          ],
          "scatter": [
           {
            "marker": {
             "colorbar": {
              "outlinewidth": 0,
              "ticks": ""
             }
            },
            "type": "scatter"
           }
          ],
          "scatter3d": [
           {
            "line": {
             "colorbar": {
              "outlinewidth": 0,
              "ticks": ""
             }
            },
            "marker": {
             "colorbar": {
              "outlinewidth": 0,
              "ticks": ""
             }
            },
            "type": "scatter3d"
           }
          ],
          "scattercarpet": [
           {
            "marker": {
             "colorbar": {
              "outlinewidth": 0,
              "ticks": ""
             }
            },
            "type": "scattercarpet"
           }
          ],
          "scattergeo": [
           {
            "marker": {
             "colorbar": {
              "outlinewidth": 0,
              "ticks": ""
             }
            },
            "type": "scattergeo"
           }
          ],
          "scattergl": [
           {
            "marker": {
             "colorbar": {
              "outlinewidth": 0,
              "ticks": ""
             }
            },
            "type": "scattergl"
           }
          ],
          "scattermapbox": [
           {
            "marker": {
             "colorbar": {
              "outlinewidth": 0,
              "ticks": ""
             }
            },
            "type": "scattermapbox"
           }
          ],
          "scatterpolar": [
           {
            "marker": {
             "colorbar": {
              "outlinewidth": 0,
              "ticks": ""
             }
            },
            "type": "scatterpolar"
           }
          ],
          "scatterpolargl": [
           {
            "marker": {
             "colorbar": {
              "outlinewidth": 0,
              "ticks": ""
             }
            },
            "type": "scatterpolargl"
           }
          ],
          "scatterternary": [
           {
            "marker": {
             "colorbar": {
              "outlinewidth": 0,
              "ticks": ""
             }
            },
            "type": "scatterternary"
           }
          ],
          "surface": [
           {
            "colorbar": {
             "outlinewidth": 0,
             "ticks": ""
            },
            "colorscale": [
             [
              0,
              "#0d0887"
             ],
             [
              0.1111111111111111,
              "#46039f"
             ],
             [
              0.2222222222222222,
              "#7201a8"
             ],
             [
              0.3333333333333333,
              "#9c179e"
             ],
             [
              0.4444444444444444,
              "#bd3786"
             ],
             [
              0.5555555555555556,
              "#d8576b"
             ],
             [
              0.6666666666666666,
              "#ed7953"
             ],
             [
              0.7777777777777778,
              "#fb9f3a"
             ],
             [
              0.8888888888888888,
              "#fdca26"
             ],
             [
              1,
              "#f0f921"
             ]
            ],
            "type": "surface"
           }
          ],
          "table": [
           {
            "cells": {
             "fill": {
              "color": "#EBF0F8"
             },
             "line": {
              "color": "white"
             }
            },
            "header": {
             "fill": {
              "color": "#C8D4E3"
             },
             "line": {
              "color": "white"
             }
            },
            "type": "table"
           }
          ]
         },
         "layout": {
          "annotationdefaults": {
           "arrowcolor": "#2a3f5f",
           "arrowhead": 0,
           "arrowwidth": 1
          },
          "autotypenumbers": "strict",
          "coloraxis": {
           "colorbar": {
            "outlinewidth": 0,
            "ticks": ""
           }
          },
          "colorscale": {
           "diverging": [
            [
             0,
             "#8e0152"
            ],
            [
             0.1,
             "#c51b7d"
            ],
            [
             0.2,
             "#de77ae"
            ],
            [
             0.3,
             "#f1b6da"
            ],
            [
             0.4,
             "#fde0ef"
            ],
            [
             0.5,
             "#f7f7f7"
            ],
            [
             0.6,
             "#e6f5d0"
            ],
            [
             0.7,
             "#b8e186"
            ],
            [
             0.8,
             "#7fbc41"
            ],
            [
             0.9,
             "#4d9221"
            ],
            [
             1,
             "#276419"
            ]
           ],
           "sequential": [
            [
             0,
             "#0d0887"
            ],
            [
             0.1111111111111111,
             "#46039f"
            ],
            [
             0.2222222222222222,
             "#7201a8"
            ],
            [
             0.3333333333333333,
             "#9c179e"
            ],
            [
             0.4444444444444444,
             "#bd3786"
            ],
            [
             0.5555555555555556,
             "#d8576b"
            ],
            [
             0.6666666666666666,
             "#ed7953"
            ],
            [
             0.7777777777777778,
             "#fb9f3a"
            ],
            [
             0.8888888888888888,
             "#fdca26"
            ],
            [
             1,
             "#f0f921"
            ]
           ],
           "sequentialminus": [
            [
             0,
             "#0d0887"
            ],
            [
             0.1111111111111111,
             "#46039f"
            ],
            [
             0.2222222222222222,
             "#7201a8"
            ],
            [
             0.3333333333333333,
             "#9c179e"
            ],
            [
             0.4444444444444444,
             "#bd3786"
            ],
            [
             0.5555555555555556,
             "#d8576b"
            ],
            [
             0.6666666666666666,
             "#ed7953"
            ],
            [
             0.7777777777777778,
             "#fb9f3a"
            ],
            [
             0.8888888888888888,
             "#fdca26"
            ],
            [
             1,
             "#f0f921"
            ]
           ]
          },
          "colorway": [
           "#636efa",
           "#EF553B",
           "#00cc96",
           "#ab63fa",
           "#FFA15A",
           "#19d3f3",
           "#FF6692",
           "#B6E880",
           "#FF97FF",
           "#FECB52"
          ],
          "font": {
           "color": "#2a3f5f"
          },
          "geo": {
           "bgcolor": "white",
           "lakecolor": "white",
           "landcolor": "#E5ECF6",
           "showlakes": true,
           "showland": true,
           "subunitcolor": "white"
          },
          "hoverlabel": {
           "align": "left"
          },
          "hovermode": "closest",
          "mapbox": {
           "style": "light"
          },
          "paper_bgcolor": "white",
          "plot_bgcolor": "#E5ECF6",
          "polar": {
           "angularaxis": {
            "gridcolor": "white",
            "linecolor": "white",
            "ticks": ""
           },
           "bgcolor": "#E5ECF6",
           "radialaxis": {
            "gridcolor": "white",
            "linecolor": "white",
            "ticks": ""
           }
          },
          "scene": {
           "xaxis": {
            "backgroundcolor": "#E5ECF6",
            "gridcolor": "white",
            "gridwidth": 2,
            "linecolor": "white",
            "showbackground": true,
            "ticks": "",
            "zerolinecolor": "white"
           },
           "yaxis": {
            "backgroundcolor": "#E5ECF6",
            "gridcolor": "white",
            "gridwidth": 2,
            "linecolor": "white",
            "showbackground": true,
            "ticks": "",
            "zerolinecolor": "white"
           },
           "zaxis": {
            "backgroundcolor": "#E5ECF6",
            "gridcolor": "white",
            "gridwidth": 2,
            "linecolor": "white",
            "showbackground": true,
            "ticks": "",
            "zerolinecolor": "white"
           }
          },
          "shapedefaults": {
           "line": {
            "color": "#2a3f5f"
           }
          },
          "ternary": {
           "aaxis": {
            "gridcolor": "white",
            "linecolor": "white",
            "ticks": ""
           },
           "baxis": {
            "gridcolor": "white",
            "linecolor": "white",
            "ticks": ""
           },
           "bgcolor": "#E5ECF6",
           "caxis": {
            "gridcolor": "white",
            "linecolor": "white",
            "ticks": ""
           }
          },
          "title": {
           "x": 0.05
          },
          "xaxis": {
           "automargin": true,
           "gridcolor": "white",
           "linecolor": "white",
           "ticks": "",
           "title": {
            "standoff": 15
           },
           "zerolinecolor": "white",
           "zerolinewidth": 2
          },
          "yaxis": {
           "automargin": true,
           "gridcolor": "white",
           "linecolor": "white",
           "ticks": "",
           "title": {
            "standoff": 15
           },
           "zerolinecolor": "white",
           "zerolinewidth": 2
          }
         }
        },
        "xaxis": {
         "anchor": "y",
         "domain": [
          0,
          1
         ],
         "title": {
          "text": "Date"
         }
        },
        "yaxis": {
         "anchor": "x",
         "domain": [
          0,
          1
         ],
         "title": {
          "text": "Number of A&E attendances"
         }
        }
       }
      }
     },
     "metadata": {},
     "output_type": "display_data"
    }
   ],
   "source": [
    "pd.options.plotting.backend = \"plotly\"\n",
    "fig = px.bar(df_clean_5 , x='Date', y= [\"Type 1\", \"Type 2\",\"Other\"],\n",
    "color_discrete_sequence=[\"#003087\", \"#0072CE\", \"#41B6E6\"],\n",
    "labels={\"value\": \"Number of A&E attendances\", \"variable\": \"A&E attendances\"})\n",
    "fig.update_layout(\n",
    "    {\"plot_bgcolor\": \"rgba(0, 0, 0, 0)\", \"paper_bgcolor\": \"rgba(0, 0, 0, 0)\"},\n",
    "    font = dict(family = \"Arial\", size = 16),\n",
    "    autosize=True,\n",
    "    margin=dict(l=50, r=50, b=50, t=50, pad=4, autoexpand=True),\n",
    ")\n",
    "fig.show()"
   ]
  },
  {
   "cell_type": "code",
   "execution_count": null,
   "metadata": {},
   "outputs": [],
   "source": []
  },
  {
   "cell_type": "code",
   "execution_count": null,
   "metadata": {},
   "outputs": [],
   "source": []
  }
 ],
 "metadata": {
  "interpreter": {
   "hash": "aee8b7b246df8f9039afb4144a1f6fd8d2ca17a180786b69acc140d282b71a49"
  },
  "kernelspec": {
   "display_name": "Python 3.9.1 64-bit",
   "language": "python",
   "name": "python3"
  },
  "language_info": {
   "codemirror_mode": {
    "name": "ipython",
    "version": 3
   },
   "file_extension": ".py",
   "mimetype": "text/x-python",
   "name": "python",
   "nbconvert_exporter": "python",
   "pygments_lexer": "ipython3",
   "version": "3.8.8"
  },
  "orig_nbformat": 4
 },
 "nbformat": 4,
 "nbformat_minor": 2
}
